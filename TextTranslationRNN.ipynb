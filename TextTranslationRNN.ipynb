{
  "nbformat": 4,
  "nbformat_minor": 0,
  "metadata": {
    "colab": {
      "provenance": [],
      "collapsed_sections": [
        "dN2ONMWf7bEZ"
      ],
      "authorship_tag": "ABX9TyNSQEON/W0sx/C8lbbgNaot",
      "include_colab_link": true
    },
    "kernelspec": {
      "name": "python3",
      "display_name": "Python 3"
    },
    "language_info": {
      "name": "python"
    }
  },
  "cells": [
    {
      "cell_type": "markdown",
      "metadata": {
        "id": "view-in-github",
        "colab_type": "text"
      },
      "source": [
        "<a href=\"https://colab.research.google.com/github/SheikhMudassarHanif/A2partB/blob/main/TextTranslationRNN.ipynb\" target=\"_parent\"><img src=\"https://colab.research.google.com/assets/colab-badge.svg\" alt=\"Open In Colab\"/></a>"
      ]
    },
    {
      "cell_type": "markdown",
      "source": [
        "##**I Will be Implementing text translation using Simple RNN and LSTM and compare their performance**"
      ],
      "metadata": {
        "id": "SE_dAWIblxQK"
      }
    },
    {
      "cell_type": "markdown",
      "source": [
        "#IN this Implementation of RNN i have used lemmatized vocabulory"
      ],
      "metadata": {
        "id": "hxP_YtImv0w_"
      }
    },
    {
      "cell_type": "code",
      "execution_count": 73,
      "metadata": {
        "id": "WRiiQ02HLz_S"
      },
      "outputs": [],
      "source": [
        "import pandas as pd\n",
        "import numpy as np\n",
        "import matplotlib.pyplot as plt\n",
        "import seaborn as sns\n",
        "import warnings\n",
        "warnings.filterwarnings('ignore')\n",
        "#\n",
        "# import tensorflow as tf\n",
        "# from tensorflow import keras"
      ]
    },
    {
      "cell_type": "code",
      "source": [
        "\n",
        "excel_file_path = '/content/parallel-corpus.xlsx'\n",
        "column_names = pd.read_excel(excel_file_path, nrows=0).columns.tolist()\n",
        "df = pd.read_excel(excel_file_path,usecols=[column_names[0],column_names[1]])\n",
        "df.dropna(inplace=True)\n",
        "df.head()"
      ],
      "metadata": {
        "colab": {
          "base_uri": "https://localhost:8080/",
          "height": 206
        },
        "id": "LFQzo2O3MUGi",
        "outputId": "3b318a8b-b0fa-4811-b403-cb6888b25c68"
      },
      "execution_count": 93,
      "outputs": [
        {
          "output_type": "execute_result",
          "data": {
            "text/plain": [
              "                                          SENTENCES   \\\n",
              "0             How can I communicate with my parents?   \n",
              "1                           How can I make friends?’   \n",
              "2                              Why do I get so sad?’   \n",
              "3  If you’ve asked yourself such questions, you’r...   \n",
              "4  Depending on where you’ve turned for guidance,...   \n",
              "\n",
              "                                             MEANING  \n",
              "0                 میں اپنے والدین سے کیسے بات کروں ؟  \n",
              "1                             میں دوست کیسے بنائوں ؟  \n",
              "2                           میں اتنا اداس کیوں ہوں؟.  \n",
              "3  اگر آپ نے اپنے آپ سے ایسے سوالات کیے ہیں، تو آ...  \n",
              "4   اس بات پر منحصر ہے کہ آپ رہنمائی کے لیے کہاں ...  "
            ],
            "text/html": [
              "\n",
              "  <div id=\"df-2fb39a01-3d5d-4aa4-a1a1-d69f3b226268\" class=\"colab-df-container\">\n",
              "    <div>\n",
              "<style scoped>\n",
              "    .dataframe tbody tr th:only-of-type {\n",
              "        vertical-align: middle;\n",
              "    }\n",
              "\n",
              "    .dataframe tbody tr th {\n",
              "        vertical-align: top;\n",
              "    }\n",
              "\n",
              "    .dataframe thead th {\n",
              "        text-align: right;\n",
              "    }\n",
              "</style>\n",
              "<table border=\"1\" class=\"dataframe\">\n",
              "  <thead>\n",
              "    <tr style=\"text-align: right;\">\n",
              "      <th></th>\n",
              "      <th>SENTENCES</th>\n",
              "      <th>MEANING</th>\n",
              "    </tr>\n",
              "  </thead>\n",
              "  <tbody>\n",
              "    <tr>\n",
              "      <th>0</th>\n",
              "      <td>How can I communicate with my parents?</td>\n",
              "      <td>میں اپنے والدین سے کیسے بات کروں ؟</td>\n",
              "    </tr>\n",
              "    <tr>\n",
              "      <th>1</th>\n",
              "      <td>How can I make friends?’</td>\n",
              "      <td>میں دوست کیسے بنائوں ؟</td>\n",
              "    </tr>\n",
              "    <tr>\n",
              "      <th>2</th>\n",
              "      <td>Why do I get so sad?’</td>\n",
              "      <td>میں اتنا اداس کیوں ہوں؟.</td>\n",
              "    </tr>\n",
              "    <tr>\n",
              "      <th>3</th>\n",
              "      <td>If you’ve asked yourself such questions, you’r...</td>\n",
              "      <td>اگر آپ نے اپنے آپ سے ایسے سوالات کیے ہیں، تو آ...</td>\n",
              "    </tr>\n",
              "    <tr>\n",
              "      <th>4</th>\n",
              "      <td>Depending on where you’ve turned for guidance,...</td>\n",
              "      <td>اس بات پر منحصر ہے کہ آپ رہنمائی کے لیے کہاں ...</td>\n",
              "    </tr>\n",
              "  </tbody>\n",
              "</table>\n",
              "</div>\n",
              "    <div class=\"colab-df-buttons\">\n",
              "\n",
              "  <div class=\"colab-df-container\">\n",
              "    <button class=\"colab-df-convert\" onclick=\"convertToInteractive('df-2fb39a01-3d5d-4aa4-a1a1-d69f3b226268')\"\n",
              "            title=\"Convert this dataframe to an interactive table.\"\n",
              "            style=\"display:none;\">\n",
              "\n",
              "  <svg xmlns=\"http://www.w3.org/2000/svg\" height=\"24px\" viewBox=\"0 -960 960 960\">\n",
              "    <path d=\"M120-120v-720h720v720H120Zm60-500h600v-160H180v160Zm220 220h160v-160H400v160Zm0 220h160v-160H400v160ZM180-400h160v-160H180v160Zm440 0h160v-160H620v160ZM180-180h160v-160H180v160Zm440 0h160v-160H620v160Z\"/>\n",
              "  </svg>\n",
              "    </button>\n",
              "\n",
              "  <style>\n",
              "    .colab-df-container {\n",
              "      display:flex;\n",
              "      gap: 12px;\n",
              "    }\n",
              "\n",
              "    .colab-df-convert {\n",
              "      background-color: #E8F0FE;\n",
              "      border: none;\n",
              "      border-radius: 50%;\n",
              "      cursor: pointer;\n",
              "      display: none;\n",
              "      fill: #1967D2;\n",
              "      height: 32px;\n",
              "      padding: 0 0 0 0;\n",
              "      width: 32px;\n",
              "    }\n",
              "\n",
              "    .colab-df-convert:hover {\n",
              "      background-color: #E2EBFA;\n",
              "      box-shadow: 0px 1px 2px rgba(60, 64, 67, 0.3), 0px 1px 3px 1px rgba(60, 64, 67, 0.15);\n",
              "      fill: #174EA6;\n",
              "    }\n",
              "\n",
              "    .colab-df-buttons div {\n",
              "      margin-bottom: 4px;\n",
              "    }\n",
              "\n",
              "    [theme=dark] .colab-df-convert {\n",
              "      background-color: #3B4455;\n",
              "      fill: #D2E3FC;\n",
              "    }\n",
              "\n",
              "    [theme=dark] .colab-df-convert:hover {\n",
              "      background-color: #434B5C;\n",
              "      box-shadow: 0px 1px 3px 1px rgba(0, 0, 0, 0.15);\n",
              "      filter: drop-shadow(0px 1px 2px rgba(0, 0, 0, 0.3));\n",
              "      fill: #FFFFFF;\n",
              "    }\n",
              "  </style>\n",
              "\n",
              "    <script>\n",
              "      const buttonEl =\n",
              "        document.querySelector('#df-2fb39a01-3d5d-4aa4-a1a1-d69f3b226268 button.colab-df-convert');\n",
              "      buttonEl.style.display =\n",
              "        google.colab.kernel.accessAllowed ? 'block' : 'none';\n",
              "\n",
              "      async function convertToInteractive(key) {\n",
              "        const element = document.querySelector('#df-2fb39a01-3d5d-4aa4-a1a1-d69f3b226268');\n",
              "        const dataTable =\n",
              "          await google.colab.kernel.invokeFunction('convertToInteractive',\n",
              "                                                    [key], {});\n",
              "        if (!dataTable) return;\n",
              "\n",
              "        const docLinkHtml = 'Like what you see? Visit the ' +\n",
              "          '<a target=\"_blank\" href=https://colab.research.google.com/notebooks/data_table.ipynb>data table notebook</a>'\n",
              "          + ' to learn more about interactive tables.';\n",
              "        element.innerHTML = '';\n",
              "        dataTable['output_type'] = 'display_data';\n",
              "        await google.colab.output.renderOutput(dataTable, element);\n",
              "        const docLink = document.createElement('div');\n",
              "        docLink.innerHTML = docLinkHtml;\n",
              "        element.appendChild(docLink);\n",
              "      }\n",
              "    </script>\n",
              "  </div>\n",
              "\n",
              "\n",
              "<div id=\"df-5663f741-8d9e-4791-9f90-fec7b70646a0\">\n",
              "  <button class=\"colab-df-quickchart\" onclick=\"quickchart('df-5663f741-8d9e-4791-9f90-fec7b70646a0')\"\n",
              "            title=\"Suggest charts\"\n",
              "            style=\"display:none;\">\n",
              "\n",
              "<svg xmlns=\"http://www.w3.org/2000/svg\" height=\"24px\"viewBox=\"0 0 24 24\"\n",
              "     width=\"24px\">\n",
              "    <g>\n",
              "        <path d=\"M19 3H5c-1.1 0-2 .9-2 2v14c0 1.1.9 2 2 2h14c1.1 0 2-.9 2-2V5c0-1.1-.9-2-2-2zM9 17H7v-7h2v7zm4 0h-2V7h2v10zm4 0h-2v-4h2v4z\"/>\n",
              "    </g>\n",
              "</svg>\n",
              "  </button>\n",
              "\n",
              "<style>\n",
              "  .colab-df-quickchart {\n",
              "      --bg-color: #E8F0FE;\n",
              "      --fill-color: #1967D2;\n",
              "      --hover-bg-color: #E2EBFA;\n",
              "      --hover-fill-color: #174EA6;\n",
              "      --disabled-fill-color: #AAA;\n",
              "      --disabled-bg-color: #DDD;\n",
              "  }\n",
              "\n",
              "  [theme=dark] .colab-df-quickchart {\n",
              "      --bg-color: #3B4455;\n",
              "      --fill-color: #D2E3FC;\n",
              "      --hover-bg-color: #434B5C;\n",
              "      --hover-fill-color: #FFFFFF;\n",
              "      --disabled-bg-color: #3B4455;\n",
              "      --disabled-fill-color: #666;\n",
              "  }\n",
              "\n",
              "  .colab-df-quickchart {\n",
              "    background-color: var(--bg-color);\n",
              "    border: none;\n",
              "    border-radius: 50%;\n",
              "    cursor: pointer;\n",
              "    display: none;\n",
              "    fill: var(--fill-color);\n",
              "    height: 32px;\n",
              "    padding: 0;\n",
              "    width: 32px;\n",
              "  }\n",
              "\n",
              "  .colab-df-quickchart:hover {\n",
              "    background-color: var(--hover-bg-color);\n",
              "    box-shadow: 0 1px 2px rgba(60, 64, 67, 0.3), 0 1px 3px 1px rgba(60, 64, 67, 0.15);\n",
              "    fill: var(--button-hover-fill-color);\n",
              "  }\n",
              "\n",
              "  .colab-df-quickchart-complete:disabled,\n",
              "  .colab-df-quickchart-complete:disabled:hover {\n",
              "    background-color: var(--disabled-bg-color);\n",
              "    fill: var(--disabled-fill-color);\n",
              "    box-shadow: none;\n",
              "  }\n",
              "\n",
              "  .colab-df-spinner {\n",
              "    border: 2px solid var(--fill-color);\n",
              "    border-color: transparent;\n",
              "    border-bottom-color: var(--fill-color);\n",
              "    animation:\n",
              "      spin 1s steps(1) infinite;\n",
              "  }\n",
              "\n",
              "  @keyframes spin {\n",
              "    0% {\n",
              "      border-color: transparent;\n",
              "      border-bottom-color: var(--fill-color);\n",
              "      border-left-color: var(--fill-color);\n",
              "    }\n",
              "    20% {\n",
              "      border-color: transparent;\n",
              "      border-left-color: var(--fill-color);\n",
              "      border-top-color: var(--fill-color);\n",
              "    }\n",
              "    30% {\n",
              "      border-color: transparent;\n",
              "      border-left-color: var(--fill-color);\n",
              "      border-top-color: var(--fill-color);\n",
              "      border-right-color: var(--fill-color);\n",
              "    }\n",
              "    40% {\n",
              "      border-color: transparent;\n",
              "      border-right-color: var(--fill-color);\n",
              "      border-top-color: var(--fill-color);\n",
              "    }\n",
              "    60% {\n",
              "      border-color: transparent;\n",
              "      border-right-color: var(--fill-color);\n",
              "    }\n",
              "    80% {\n",
              "      border-color: transparent;\n",
              "      border-right-color: var(--fill-color);\n",
              "      border-bottom-color: var(--fill-color);\n",
              "    }\n",
              "    90% {\n",
              "      border-color: transparent;\n",
              "      border-bottom-color: var(--fill-color);\n",
              "    }\n",
              "  }\n",
              "</style>\n",
              "\n",
              "  <script>\n",
              "    async function quickchart(key) {\n",
              "      const quickchartButtonEl =\n",
              "        document.querySelector('#' + key + ' button');\n",
              "      quickchartButtonEl.disabled = true;  // To prevent multiple clicks.\n",
              "      quickchartButtonEl.classList.add('colab-df-spinner');\n",
              "      try {\n",
              "        const charts = await google.colab.kernel.invokeFunction(\n",
              "            'suggestCharts', [key], {});\n",
              "      } catch (error) {\n",
              "        console.error('Error during call to suggestCharts:', error);\n",
              "      }\n",
              "      quickchartButtonEl.classList.remove('colab-df-spinner');\n",
              "      quickchartButtonEl.classList.add('colab-df-quickchart-complete');\n",
              "    }\n",
              "    (() => {\n",
              "      let quickchartButtonEl =\n",
              "        document.querySelector('#df-5663f741-8d9e-4791-9f90-fec7b70646a0 button');\n",
              "      quickchartButtonEl.style.display =\n",
              "        google.colab.kernel.accessAllowed ? 'block' : 'none';\n",
              "    })();\n",
              "  </script>\n",
              "</div>\n",
              "\n",
              "    </div>\n",
              "  </div>\n"
            ],
            "application/vnd.google.colaboratory.intrinsic+json": {
              "type": "dataframe",
              "variable_name": "df",
              "summary": "{\n  \"name\": \"df\",\n  \"rows\": 29617,\n  \"fields\": [\n    {\n      \"column\": \"SENTENCES \",\n      \"properties\": {\n        \"dtype\": \"string\",\n        \"num_unique_values\": 23159,\n        \"samples\": [\n          \"We went to the place to have some Kababs & Tikkas. The experience was good but the food was a bit spicy.\",\n          \"nice food good quality\",\n          \"BBQ was worse (taste and quantity), Mutton Mandi was average, Smoothie was fine enough.\\nService was not good.\"\n        ],\n        \"semantic_type\": \"\",\n        \"description\": \"\"\n      }\n    },\n    {\n      \"column\": \"MEANING\",\n      \"properties\": {\n        \"dtype\": \"string\",\n        \"num_unique_values\": 22594,\n        \"samples\": [\n          \"\\u0648\\u0627\\u06c1 \\u0639\\u0645\\u062f\\u06c1 \\u0642\\u0633\\u0645 \\u06a9\\u06d2 \\u06a9\\u06be\\u0627\\u0646\\u06d2\",\n          \"\\u0627\\u06af\\u0631 \\u0634\\u064e\\u06cc\\u0637\\u0627\\u0646 \\u0627\\u067e\\u0646\\u0627 \\u06c1\\u06cc \\u0645\\u062e\\u0627\\u0644\\u0650\\u0641 \\u06c1\\u0648\\u06a9\\u0631 \\u0627\\u067e\\u0646\\u06d2 \\u0645\\u06cc\\u06ba \\u067e\\u064f\\u06be\\u0648\\u0679 \\u0688\\u0627\\u0644\\u06d2 \\u062a\\u0648 \\u0648\\u06c1 \\u0642\\u0627\\u0626\\u0645 \\u0646\\u06c1\\u06cc\\u06ba \\u0631\\u06c1 \\u0633\\u06a9\\u062a\\u0627 \\u0628\\u0644\\u06a9\\u06c1 \\u0627\\u064f\\u0633 \\u06a9\\u0627 \\u062e\\u0627\\u062a\\u0645\\u06c1 \\u06c1\\u0648\\u062c\\u0627\\u0626\\u06d2 \\u06af\\u0627 \\u06d4\",\n          \"\\u062e\\u0627\\u0646\\u062f\\u0627\\u0646 \\u06cc\\u0627 \\u062f\\u0648\\u0633\\u062a\\u0648\\u06ba \\u06a9\\u06d2 \\u0633\\u0627\\u062a\\u06be \\u062c\\u0627\\u0646\\u06d2 \\u06a9\\u06d2 \\u0644\\u06cc\\u06d2 \\u0628\\u06c1\\u062a\\u0631 \\u06c1\\u0648\\u0679\\u0644\\u06d4\"\n        ],\n        \"semantic_type\": \"\",\n        \"description\": \"\"\n      }\n    }\n  ]\n}"
            }
          },
          "metadata": {},
          "execution_count": 93
        }
      ]
    },
    {
      "cell_type": "code",
      "source": [
        "df.tail()"
      ],
      "metadata": {
        "colab": {
          "base_uri": "https://localhost:8080/",
          "height": 206
        },
        "id": "ckG6bPbOPEqH",
        "outputId": "3e8a8f1a-a8db-4618-d2b3-9d08318572f7"
      },
      "execution_count": 94,
      "outputs": [
        {
          "output_type": "execute_result",
          "data": {
            "text/plain": [
              "                                              SENTENCES   \\\n",
              "30159  Tasty food nice environment everyone should vi...   \n",
              "30160                                          Thumbs up   \n",
              "30161                                   Food was awesome   \n",
              "30162  Economical place with a great taste. A tough c...   \n",
              "30163           Food was good but service was very slow.   \n",
              "\n",
              "                                                 MEANING  \n",
              "30159  لذیذ کھانا اچھا ماحول ہر کسی کو دوستوں اور کنب...  \n",
              "30160                                            بہت خوب  \n",
              "30161                                  کھانا لاجواب تھا۔  \n",
              "30162  ایک عظیم ذائقہ کے ساتھ اقتصادی جگہ. کراچی میں ...  \n",
              "30163              کھانا اچھا تھا لیکن سروس بہت سست تھی۔  "
            ],
            "text/html": [
              "\n",
              "  <div id=\"df-4cbf398a-59f4-4026-9b78-10761914bff4\" class=\"colab-df-container\">\n",
              "    <div>\n",
              "<style scoped>\n",
              "    .dataframe tbody tr th:only-of-type {\n",
              "        vertical-align: middle;\n",
              "    }\n",
              "\n",
              "    .dataframe tbody tr th {\n",
              "        vertical-align: top;\n",
              "    }\n",
              "\n",
              "    .dataframe thead th {\n",
              "        text-align: right;\n",
              "    }\n",
              "</style>\n",
              "<table border=\"1\" class=\"dataframe\">\n",
              "  <thead>\n",
              "    <tr style=\"text-align: right;\">\n",
              "      <th></th>\n",
              "      <th>SENTENCES</th>\n",
              "      <th>MEANING</th>\n",
              "    </tr>\n",
              "  </thead>\n",
              "  <tbody>\n",
              "    <tr>\n",
              "      <th>30159</th>\n",
              "      <td>Tasty food nice environment everyone should vi...</td>\n",
              "      <td>لذیذ کھانا اچھا ماحول ہر کسی کو دوستوں اور کنب...</td>\n",
              "    </tr>\n",
              "    <tr>\n",
              "      <th>30160</th>\n",
              "      <td>Thumbs up</td>\n",
              "      <td>بہت خوب</td>\n",
              "    </tr>\n",
              "    <tr>\n",
              "      <th>30161</th>\n",
              "      <td>Food was awesome</td>\n",
              "      <td>کھانا لاجواب تھا۔</td>\n",
              "    </tr>\n",
              "    <tr>\n",
              "      <th>30162</th>\n",
              "      <td>Economical place with a great taste. A tough c...</td>\n",
              "      <td>ایک عظیم ذائقہ کے ساتھ اقتصادی جگہ. کراچی میں ...</td>\n",
              "    </tr>\n",
              "    <tr>\n",
              "      <th>30163</th>\n",
              "      <td>Food was good but service was very slow.</td>\n",
              "      <td>کھانا اچھا تھا لیکن سروس بہت سست تھی۔</td>\n",
              "    </tr>\n",
              "  </tbody>\n",
              "</table>\n",
              "</div>\n",
              "    <div class=\"colab-df-buttons\">\n",
              "\n",
              "  <div class=\"colab-df-container\">\n",
              "    <button class=\"colab-df-convert\" onclick=\"convertToInteractive('df-4cbf398a-59f4-4026-9b78-10761914bff4')\"\n",
              "            title=\"Convert this dataframe to an interactive table.\"\n",
              "            style=\"display:none;\">\n",
              "\n",
              "  <svg xmlns=\"http://www.w3.org/2000/svg\" height=\"24px\" viewBox=\"0 -960 960 960\">\n",
              "    <path d=\"M120-120v-720h720v720H120Zm60-500h600v-160H180v160Zm220 220h160v-160H400v160Zm0 220h160v-160H400v160ZM180-400h160v-160H180v160Zm440 0h160v-160H620v160ZM180-180h160v-160H180v160Zm440 0h160v-160H620v160Z\"/>\n",
              "  </svg>\n",
              "    </button>\n",
              "\n",
              "  <style>\n",
              "    .colab-df-container {\n",
              "      display:flex;\n",
              "      gap: 12px;\n",
              "    }\n",
              "\n",
              "    .colab-df-convert {\n",
              "      background-color: #E8F0FE;\n",
              "      border: none;\n",
              "      border-radius: 50%;\n",
              "      cursor: pointer;\n",
              "      display: none;\n",
              "      fill: #1967D2;\n",
              "      height: 32px;\n",
              "      padding: 0 0 0 0;\n",
              "      width: 32px;\n",
              "    }\n",
              "\n",
              "    .colab-df-convert:hover {\n",
              "      background-color: #E2EBFA;\n",
              "      box-shadow: 0px 1px 2px rgba(60, 64, 67, 0.3), 0px 1px 3px 1px rgba(60, 64, 67, 0.15);\n",
              "      fill: #174EA6;\n",
              "    }\n",
              "\n",
              "    .colab-df-buttons div {\n",
              "      margin-bottom: 4px;\n",
              "    }\n",
              "\n",
              "    [theme=dark] .colab-df-convert {\n",
              "      background-color: #3B4455;\n",
              "      fill: #D2E3FC;\n",
              "    }\n",
              "\n",
              "    [theme=dark] .colab-df-convert:hover {\n",
              "      background-color: #434B5C;\n",
              "      box-shadow: 0px 1px 3px 1px rgba(0, 0, 0, 0.15);\n",
              "      filter: drop-shadow(0px 1px 2px rgba(0, 0, 0, 0.3));\n",
              "      fill: #FFFFFF;\n",
              "    }\n",
              "  </style>\n",
              "\n",
              "    <script>\n",
              "      const buttonEl =\n",
              "        document.querySelector('#df-4cbf398a-59f4-4026-9b78-10761914bff4 button.colab-df-convert');\n",
              "      buttonEl.style.display =\n",
              "        google.colab.kernel.accessAllowed ? 'block' : 'none';\n",
              "\n",
              "      async function convertToInteractive(key) {\n",
              "        const element = document.querySelector('#df-4cbf398a-59f4-4026-9b78-10761914bff4');\n",
              "        const dataTable =\n",
              "          await google.colab.kernel.invokeFunction('convertToInteractive',\n",
              "                                                    [key], {});\n",
              "        if (!dataTable) return;\n",
              "\n",
              "        const docLinkHtml = 'Like what you see? Visit the ' +\n",
              "          '<a target=\"_blank\" href=https://colab.research.google.com/notebooks/data_table.ipynb>data table notebook</a>'\n",
              "          + ' to learn more about interactive tables.';\n",
              "        element.innerHTML = '';\n",
              "        dataTable['output_type'] = 'display_data';\n",
              "        await google.colab.output.renderOutput(dataTable, element);\n",
              "        const docLink = document.createElement('div');\n",
              "        docLink.innerHTML = docLinkHtml;\n",
              "        element.appendChild(docLink);\n",
              "      }\n",
              "    </script>\n",
              "  </div>\n",
              "\n",
              "\n",
              "<div id=\"df-7837f895-4870-49a0-b661-e08cb187b048\">\n",
              "  <button class=\"colab-df-quickchart\" onclick=\"quickchart('df-7837f895-4870-49a0-b661-e08cb187b048')\"\n",
              "            title=\"Suggest charts\"\n",
              "            style=\"display:none;\">\n",
              "\n",
              "<svg xmlns=\"http://www.w3.org/2000/svg\" height=\"24px\"viewBox=\"0 0 24 24\"\n",
              "     width=\"24px\">\n",
              "    <g>\n",
              "        <path d=\"M19 3H5c-1.1 0-2 .9-2 2v14c0 1.1.9 2 2 2h14c1.1 0 2-.9 2-2V5c0-1.1-.9-2-2-2zM9 17H7v-7h2v7zm4 0h-2V7h2v10zm4 0h-2v-4h2v4z\"/>\n",
              "    </g>\n",
              "</svg>\n",
              "  </button>\n",
              "\n",
              "<style>\n",
              "  .colab-df-quickchart {\n",
              "      --bg-color: #E8F0FE;\n",
              "      --fill-color: #1967D2;\n",
              "      --hover-bg-color: #E2EBFA;\n",
              "      --hover-fill-color: #174EA6;\n",
              "      --disabled-fill-color: #AAA;\n",
              "      --disabled-bg-color: #DDD;\n",
              "  }\n",
              "\n",
              "  [theme=dark] .colab-df-quickchart {\n",
              "      --bg-color: #3B4455;\n",
              "      --fill-color: #D2E3FC;\n",
              "      --hover-bg-color: #434B5C;\n",
              "      --hover-fill-color: #FFFFFF;\n",
              "      --disabled-bg-color: #3B4455;\n",
              "      --disabled-fill-color: #666;\n",
              "  }\n",
              "\n",
              "  .colab-df-quickchart {\n",
              "    background-color: var(--bg-color);\n",
              "    border: none;\n",
              "    border-radius: 50%;\n",
              "    cursor: pointer;\n",
              "    display: none;\n",
              "    fill: var(--fill-color);\n",
              "    height: 32px;\n",
              "    padding: 0;\n",
              "    width: 32px;\n",
              "  }\n",
              "\n",
              "  .colab-df-quickchart:hover {\n",
              "    background-color: var(--hover-bg-color);\n",
              "    box-shadow: 0 1px 2px rgba(60, 64, 67, 0.3), 0 1px 3px 1px rgba(60, 64, 67, 0.15);\n",
              "    fill: var(--button-hover-fill-color);\n",
              "  }\n",
              "\n",
              "  .colab-df-quickchart-complete:disabled,\n",
              "  .colab-df-quickchart-complete:disabled:hover {\n",
              "    background-color: var(--disabled-bg-color);\n",
              "    fill: var(--disabled-fill-color);\n",
              "    box-shadow: none;\n",
              "  }\n",
              "\n",
              "  .colab-df-spinner {\n",
              "    border: 2px solid var(--fill-color);\n",
              "    border-color: transparent;\n",
              "    border-bottom-color: var(--fill-color);\n",
              "    animation:\n",
              "      spin 1s steps(1) infinite;\n",
              "  }\n",
              "\n",
              "  @keyframes spin {\n",
              "    0% {\n",
              "      border-color: transparent;\n",
              "      border-bottom-color: var(--fill-color);\n",
              "      border-left-color: var(--fill-color);\n",
              "    }\n",
              "    20% {\n",
              "      border-color: transparent;\n",
              "      border-left-color: var(--fill-color);\n",
              "      border-top-color: var(--fill-color);\n",
              "    }\n",
              "    30% {\n",
              "      border-color: transparent;\n",
              "      border-left-color: var(--fill-color);\n",
              "      border-top-color: var(--fill-color);\n",
              "      border-right-color: var(--fill-color);\n",
              "    }\n",
              "    40% {\n",
              "      border-color: transparent;\n",
              "      border-right-color: var(--fill-color);\n",
              "      border-top-color: var(--fill-color);\n",
              "    }\n",
              "    60% {\n",
              "      border-color: transparent;\n",
              "      border-right-color: var(--fill-color);\n",
              "    }\n",
              "    80% {\n",
              "      border-color: transparent;\n",
              "      border-right-color: var(--fill-color);\n",
              "      border-bottom-color: var(--fill-color);\n",
              "    }\n",
              "    90% {\n",
              "      border-color: transparent;\n",
              "      border-bottom-color: var(--fill-color);\n",
              "    }\n",
              "  }\n",
              "</style>\n",
              "\n",
              "  <script>\n",
              "    async function quickchart(key) {\n",
              "      const quickchartButtonEl =\n",
              "        document.querySelector('#' + key + ' button');\n",
              "      quickchartButtonEl.disabled = true;  // To prevent multiple clicks.\n",
              "      quickchartButtonEl.classList.add('colab-df-spinner');\n",
              "      try {\n",
              "        const charts = await google.colab.kernel.invokeFunction(\n",
              "            'suggestCharts', [key], {});\n",
              "      } catch (error) {\n",
              "        console.error('Error during call to suggestCharts:', error);\n",
              "      }\n",
              "      quickchartButtonEl.classList.remove('colab-df-spinner');\n",
              "      quickchartButtonEl.classList.add('colab-df-quickchart-complete');\n",
              "    }\n",
              "    (() => {\n",
              "      let quickchartButtonEl =\n",
              "        document.querySelector('#df-7837f895-4870-49a0-b661-e08cb187b048 button');\n",
              "      quickchartButtonEl.style.display =\n",
              "        google.colab.kernel.accessAllowed ? 'block' : 'none';\n",
              "    })();\n",
              "  </script>\n",
              "</div>\n",
              "\n",
              "    </div>\n",
              "  </div>\n"
            ],
            "application/vnd.google.colaboratory.intrinsic+json": {
              "type": "dataframe",
              "summary": "{\n  \"name\": \"df\",\n  \"rows\": 5,\n  \"fields\": [\n    {\n      \"column\": \"SENTENCES \",\n      \"properties\": {\n        \"dtype\": \"string\",\n        \"num_unique_values\": 5,\n        \"samples\": [\n          \"Thumbs up\",\n          \"Food was good but service was very slow.\",\n          \"Food was awesome\"\n        ],\n        \"semantic_type\": \"\",\n        \"description\": \"\"\n      }\n    },\n    {\n      \"column\": \"MEANING\",\n      \"properties\": {\n        \"dtype\": \"string\",\n        \"num_unique_values\": 5,\n        \"samples\": [\n          \"\\u0628\\u06c1\\u062a \\u062e\\u0648\\u0628\",\n          \"\\u06a9\\u06be\\u0627\\u0646\\u0627 \\u0627\\u0686\\u06be\\u0627 \\u062a\\u06be\\u0627 \\u0644\\u06cc\\u06a9\\u0646 \\u0633\\u0631\\u0648\\u0633 \\u0628\\u06c1\\u062a \\u0633\\u0633\\u062a \\u062a\\u06be\\u06cc\\u06d4\",\n          \"\\u06a9\\u06be\\u0627\\u0646\\u0627 \\u0644\\u0627\\u062c\\u0648\\u0627\\u0628 \\u062a\\u06be\\u0627\\u06d4\"\n        ],\n        \"semantic_type\": \"\",\n        \"description\": \"\"\n      }\n    }\n  ]\n}"
            }
          },
          "metadata": {},
          "execution_count": 94
        }
      ]
    },
    {
      "cell_type": "markdown",
      "source": [
        "#spiliting the dataset in train=80% validation=10% test=10%"
      ],
      "metadata": {
        "id": "ZD-mumjUwOsB"
      }
    },
    {
      "cell_type": "code",
      "source": [
        "train,val,test=np.split(df.sample(frac=1),[int(0.8*len(df)),int(0.9*len(df))])"
      ],
      "metadata": {
        "id": "zwChm3QyMd_2"
      },
      "execution_count": 95,
      "outputs": []
    },
    {
      "cell_type": "code",
      "source": [
        "len(train),len(val),len(test)"
      ],
      "metadata": {
        "colab": {
          "base_uri": "https://localhost:8080/"
        },
        "id": "AMNLju11Nnrk",
        "outputId": "3684ba77-3c3f-407d-a169-72032e9b21ac"
      },
      "execution_count": 96,
      "outputs": [
        {
          "output_type": "execute_result",
          "data": {
            "text/plain": [
              "(23693, 2962, 2962)"
            ]
          },
          "metadata": {},
          "execution_count": 96
        }
      ]
    },
    {
      "cell_type": "markdown",
      "source": [
        "Using Lughaat library to preprocess urdu language text"
      ],
      "metadata": {
        "id": "xBYW65l8wYGz"
      }
    },
    {
      "cell_type": "code",
      "source": [
        "import re\n",
        "from LughaatNLP import LughaatNLP\n",
        "urdu_text_processing = LughaatNLP()"
      ],
      "metadata": {
        "id": "F3jchbT5NqwM"
      },
      "execution_count": 97,
      "outputs": []
    },
    {
      "cell_type": "markdown",
      "source": [
        "THis NOrmalize_label function is actually normalizing my urdu sentences in my dataset .\n",
        "Stemming , removing accidental puntuctions , special charaters"
      ],
      "metadata": {
        "id": "aNnFhkgpwfK4"
      }
    },
    {
      "cell_type": "code",
      "source": [
        "import re\n",
        "\n",
        "def Normalize_label(text):\n",
        "    # Check if the input is not a string\n",
        "    if not isinstance(text, str):\n",
        "        text = str(text)  # Convert it to a string\n",
        "\n",
        "    # Preprocess the text\n",
        "    urdu_text_processing.remove_special_characters_exceptUrdu(text)\n",
        "    urdu_text_processing.remove_special_characters(text)\n",
        "    urdu_text_processing.pure_urdu(text)\n",
        "    urdu_text_processing.remove_diacritics(text)\n",
        "    urdu_text_processing.punctuations_space(text)\n",
        "\n",
        "    # Remove specific punctuation marks\n",
        "    text = re.sub(r'[.,!?؟،؛,]', '', text)\n",
        "\n",
        "    # Define common suffixes in Urdu for stemming\n",
        "    suffixes = ['وں', 'یں', 'ی', 'ت', 'تے', 'نے', 'گی']\n",
        "\n",
        "    # Perform stemming\n",
        "    stemmed_words = []\n",
        "    for word in text.split():\n",
        "        for suffix in suffixes:\n",
        "            if word.endswith(suffix):\n",
        "                word = word[:-len(suffix)]\n",
        "                break\n",
        "        stemmed_words.append(word)\n",
        "\n",
        "    # Normalize the final text (assuming there's a normalize function)\n",
        "    normalized_stemmed_text = urdu_text_processing.normalize(' '.join(stemmed_words))\n",
        "    return normalized_stemmed_text\n"
      ],
      "metadata": {
        "id": "1awvrqOmD0aM"
      },
      "execution_count": 98,
      "outputs": []
    },
    {
      "cell_type": "code",
      "source": [
        "df['MEANING']=df['MEANING'].apply(Normalize_label)"
      ],
      "metadata": {
        "id": "yyh4NNdbQPnr"
      },
      "execution_count": 99,
      "outputs": []
    },
    {
      "cell_type": "markdown",
      "source": [
        "This Normalize_Input is normalizing my english sentences , preprocessing them stemming them removing accidental puntuctions, lowercasing and removing any unwanted text(urls)"
      ],
      "metadata": {
        "id": "RO0byOumwocb"
      }
    },
    {
      "cell_type": "code",
      "source": [
        "import re\n",
        "import nltk\n",
        "from nltk.stem import PorterStemmer, LancasterStemmer, SnowballStemmer\n",
        "\n",
        "# Download required data (if not already downloaded)\n",
        "# nltk.download('punkt')\n",
        "\n",
        "def Normalize_Input(text):\n",
        "    # Check if the input is not a string\n",
        "    if not isinstance(text, str):\n",
        "        text = str(text)  # Convert non-string values to string\n",
        "    # Convert to lowercase and remove punctuation\n",
        "    text = text.lower()\n",
        "\n",
        "# 2. Remove punctuation\n",
        "    text = re.sub(r'[^\\w\\s]', '', text)  # Removes anything that's not a word or space\n",
        "\n",
        "# 3. Remove numbers\n",
        "    text = re.sub(r'\\d+', '', text)\n",
        "\n",
        "# 4. Remove extra spaces\n",
        "    text = re.sub(r'\\s+', ' ', text).strip()\n",
        "\n",
        "    stemmer = PorterStemmer()\n",
        "\n",
        "# Tokenize the sentence\n",
        "    tokens = nltk.word_tokenize(text)\n",
        "\n",
        "# Apply stemming\n",
        "    stemmed_tokens = [stemmer.stem(token) for token in tokens]\n",
        "\n",
        "# Reconstruct the stemmed sentence\n",
        "    text = \" \".join(stemmed_tokens)\n",
        "\n",
        "    return text\n"
      ],
      "metadata": {
        "id": "3Bq1EgwgQlFt"
      },
      "execution_count": 100,
      "outputs": []
    },
    {
      "cell_type": "code",
      "source": [
        "df['SENTENCES ']=df['SENTENCES '].apply(Normalize_Input)"
      ],
      "metadata": {
        "id": "zK1SexGBRY-r"
      },
      "execution_count": 101,
      "outputs": []
    },
    {
      "cell_type": "markdown",
      "source": [
        "#After normalizing the input and label"
      ],
      "metadata": {
        "id": "FiBQeiekxITt"
      }
    },
    {
      "cell_type": "code",
      "source": [
        "df.head()"
      ],
      "metadata": {
        "colab": {
          "base_uri": "https://localhost:8080/",
          "height": 206
        },
        "id": "M3SmlNEBIvcc",
        "outputId": "bad9e073-bad0-43ca-d503-75b4c7b8a5f2"
      },
      "execution_count": 102,
      "outputs": [
        {
          "output_type": "execute_result",
          "data": {
            "text/plain": [
              "                                          SENTENCES   \\\n",
              "0                    how can i commun with my parent   \n",
              "1                              how can i make friend   \n",
              "2                                whi do i get so sad   \n",
              "3   if youv ask yourself such question your not alon   \n",
              "4  depend on where youv turn for guidanc you may ...   \n",
              "\n",
              "                                             MEANING  \n",
              "0                          م اپ والدین سے کیسے با کر  \n",
              "1                                    م دوس کیسے بنائ  \n",
              "2                                   م اتنا اداس کی ہ  \n",
              "3  اگر اپ اپ اپ سے ایسے سوالا کیے ہ تو اپ اکیلے نہ ہ  \n",
              "4  اس با پر منحصر ہے کہ اپ رہنمائ کے لیے کہاں گئے...  "
            ],
            "text/html": [
              "\n",
              "  <div id=\"df-4d380a0a-56dd-4b0e-ab5e-7f5e73a5c6e6\" class=\"colab-df-container\">\n",
              "    <div>\n",
              "<style scoped>\n",
              "    .dataframe tbody tr th:only-of-type {\n",
              "        vertical-align: middle;\n",
              "    }\n",
              "\n",
              "    .dataframe tbody tr th {\n",
              "        vertical-align: top;\n",
              "    }\n",
              "\n",
              "    .dataframe thead th {\n",
              "        text-align: right;\n",
              "    }\n",
              "</style>\n",
              "<table border=\"1\" class=\"dataframe\">\n",
              "  <thead>\n",
              "    <tr style=\"text-align: right;\">\n",
              "      <th></th>\n",
              "      <th>SENTENCES</th>\n",
              "      <th>MEANING</th>\n",
              "    </tr>\n",
              "  </thead>\n",
              "  <tbody>\n",
              "    <tr>\n",
              "      <th>0</th>\n",
              "      <td>how can i commun with my parent</td>\n",
              "      <td>م اپ والدین سے کیسے با کر</td>\n",
              "    </tr>\n",
              "    <tr>\n",
              "      <th>1</th>\n",
              "      <td>how can i make friend</td>\n",
              "      <td>م دوس کیسے بنائ</td>\n",
              "    </tr>\n",
              "    <tr>\n",
              "      <th>2</th>\n",
              "      <td>whi do i get so sad</td>\n",
              "      <td>م اتنا اداس کی ہ</td>\n",
              "    </tr>\n",
              "    <tr>\n",
              "      <th>3</th>\n",
              "      <td>if youv ask yourself such question your not alon</td>\n",
              "      <td>اگر اپ اپ اپ سے ایسے سوالا کیے ہ تو اپ اکیلے نہ ہ</td>\n",
              "    </tr>\n",
              "    <tr>\n",
              "      <th>4</th>\n",
              "      <td>depend on where youv turn for guidanc you may ...</td>\n",
              "      <td>اس با پر منحصر ہے کہ اپ رہنمائ کے لیے کہاں گئے...</td>\n",
              "    </tr>\n",
              "  </tbody>\n",
              "</table>\n",
              "</div>\n",
              "    <div class=\"colab-df-buttons\">\n",
              "\n",
              "  <div class=\"colab-df-container\">\n",
              "    <button class=\"colab-df-convert\" onclick=\"convertToInteractive('df-4d380a0a-56dd-4b0e-ab5e-7f5e73a5c6e6')\"\n",
              "            title=\"Convert this dataframe to an interactive table.\"\n",
              "            style=\"display:none;\">\n",
              "\n",
              "  <svg xmlns=\"http://www.w3.org/2000/svg\" height=\"24px\" viewBox=\"0 -960 960 960\">\n",
              "    <path d=\"M120-120v-720h720v720H120Zm60-500h600v-160H180v160Zm220 220h160v-160H400v160Zm0 220h160v-160H400v160ZM180-400h160v-160H180v160Zm440 0h160v-160H620v160ZM180-180h160v-160H180v160Zm440 0h160v-160H620v160Z\"/>\n",
              "  </svg>\n",
              "    </button>\n",
              "\n",
              "  <style>\n",
              "    .colab-df-container {\n",
              "      display:flex;\n",
              "      gap: 12px;\n",
              "    }\n",
              "\n",
              "    .colab-df-convert {\n",
              "      background-color: #E8F0FE;\n",
              "      border: none;\n",
              "      border-radius: 50%;\n",
              "      cursor: pointer;\n",
              "      display: none;\n",
              "      fill: #1967D2;\n",
              "      height: 32px;\n",
              "      padding: 0 0 0 0;\n",
              "      width: 32px;\n",
              "    }\n",
              "\n",
              "    .colab-df-convert:hover {\n",
              "      background-color: #E2EBFA;\n",
              "      box-shadow: 0px 1px 2px rgba(60, 64, 67, 0.3), 0px 1px 3px 1px rgba(60, 64, 67, 0.15);\n",
              "      fill: #174EA6;\n",
              "    }\n",
              "\n",
              "    .colab-df-buttons div {\n",
              "      margin-bottom: 4px;\n",
              "    }\n",
              "\n",
              "    [theme=dark] .colab-df-convert {\n",
              "      background-color: #3B4455;\n",
              "      fill: #D2E3FC;\n",
              "    }\n",
              "\n",
              "    [theme=dark] .colab-df-convert:hover {\n",
              "      background-color: #434B5C;\n",
              "      box-shadow: 0px 1px 3px 1px rgba(0, 0, 0, 0.15);\n",
              "      filter: drop-shadow(0px 1px 2px rgba(0, 0, 0, 0.3));\n",
              "      fill: #FFFFFF;\n",
              "    }\n",
              "  </style>\n",
              "\n",
              "    <script>\n",
              "      const buttonEl =\n",
              "        document.querySelector('#df-4d380a0a-56dd-4b0e-ab5e-7f5e73a5c6e6 button.colab-df-convert');\n",
              "      buttonEl.style.display =\n",
              "        google.colab.kernel.accessAllowed ? 'block' : 'none';\n",
              "\n",
              "      async function convertToInteractive(key) {\n",
              "        const element = document.querySelector('#df-4d380a0a-56dd-4b0e-ab5e-7f5e73a5c6e6');\n",
              "        const dataTable =\n",
              "          await google.colab.kernel.invokeFunction('convertToInteractive',\n",
              "                                                    [key], {});\n",
              "        if (!dataTable) return;\n",
              "\n",
              "        const docLinkHtml = 'Like what you see? Visit the ' +\n",
              "          '<a target=\"_blank\" href=https://colab.research.google.com/notebooks/data_table.ipynb>data table notebook</a>'\n",
              "          + ' to learn more about interactive tables.';\n",
              "        element.innerHTML = '';\n",
              "        dataTable['output_type'] = 'display_data';\n",
              "        await google.colab.output.renderOutput(dataTable, element);\n",
              "        const docLink = document.createElement('div');\n",
              "        docLink.innerHTML = docLinkHtml;\n",
              "        element.appendChild(docLink);\n",
              "      }\n",
              "    </script>\n",
              "  </div>\n",
              "\n",
              "\n",
              "<div id=\"df-f419f564-9b43-479e-ab64-ad2791e25a39\">\n",
              "  <button class=\"colab-df-quickchart\" onclick=\"quickchart('df-f419f564-9b43-479e-ab64-ad2791e25a39')\"\n",
              "            title=\"Suggest charts\"\n",
              "            style=\"display:none;\">\n",
              "\n",
              "<svg xmlns=\"http://www.w3.org/2000/svg\" height=\"24px\"viewBox=\"0 0 24 24\"\n",
              "     width=\"24px\">\n",
              "    <g>\n",
              "        <path d=\"M19 3H5c-1.1 0-2 .9-2 2v14c0 1.1.9 2 2 2h14c1.1 0 2-.9 2-2V5c0-1.1-.9-2-2-2zM9 17H7v-7h2v7zm4 0h-2V7h2v10zm4 0h-2v-4h2v4z\"/>\n",
              "    </g>\n",
              "</svg>\n",
              "  </button>\n",
              "\n",
              "<style>\n",
              "  .colab-df-quickchart {\n",
              "      --bg-color: #E8F0FE;\n",
              "      --fill-color: #1967D2;\n",
              "      --hover-bg-color: #E2EBFA;\n",
              "      --hover-fill-color: #174EA6;\n",
              "      --disabled-fill-color: #AAA;\n",
              "      --disabled-bg-color: #DDD;\n",
              "  }\n",
              "\n",
              "  [theme=dark] .colab-df-quickchart {\n",
              "      --bg-color: #3B4455;\n",
              "      --fill-color: #D2E3FC;\n",
              "      --hover-bg-color: #434B5C;\n",
              "      --hover-fill-color: #FFFFFF;\n",
              "      --disabled-bg-color: #3B4455;\n",
              "      --disabled-fill-color: #666;\n",
              "  }\n",
              "\n",
              "  .colab-df-quickchart {\n",
              "    background-color: var(--bg-color);\n",
              "    border: none;\n",
              "    border-radius: 50%;\n",
              "    cursor: pointer;\n",
              "    display: none;\n",
              "    fill: var(--fill-color);\n",
              "    height: 32px;\n",
              "    padding: 0;\n",
              "    width: 32px;\n",
              "  }\n",
              "\n",
              "  .colab-df-quickchart:hover {\n",
              "    background-color: var(--hover-bg-color);\n",
              "    box-shadow: 0 1px 2px rgba(60, 64, 67, 0.3), 0 1px 3px 1px rgba(60, 64, 67, 0.15);\n",
              "    fill: var(--button-hover-fill-color);\n",
              "  }\n",
              "\n",
              "  .colab-df-quickchart-complete:disabled,\n",
              "  .colab-df-quickchart-complete:disabled:hover {\n",
              "    background-color: var(--disabled-bg-color);\n",
              "    fill: var(--disabled-fill-color);\n",
              "    box-shadow: none;\n",
              "  }\n",
              "\n",
              "  .colab-df-spinner {\n",
              "    border: 2px solid var(--fill-color);\n",
              "    border-color: transparent;\n",
              "    border-bottom-color: var(--fill-color);\n",
              "    animation:\n",
              "      spin 1s steps(1) infinite;\n",
              "  }\n",
              "\n",
              "  @keyframes spin {\n",
              "    0% {\n",
              "      border-color: transparent;\n",
              "      border-bottom-color: var(--fill-color);\n",
              "      border-left-color: var(--fill-color);\n",
              "    }\n",
              "    20% {\n",
              "      border-color: transparent;\n",
              "      border-left-color: var(--fill-color);\n",
              "      border-top-color: var(--fill-color);\n",
              "    }\n",
              "    30% {\n",
              "      border-color: transparent;\n",
              "      border-left-color: var(--fill-color);\n",
              "      border-top-color: var(--fill-color);\n",
              "      border-right-color: var(--fill-color);\n",
              "    }\n",
              "    40% {\n",
              "      border-color: transparent;\n",
              "      border-right-color: var(--fill-color);\n",
              "      border-top-color: var(--fill-color);\n",
              "    }\n",
              "    60% {\n",
              "      border-color: transparent;\n",
              "      border-right-color: var(--fill-color);\n",
              "    }\n",
              "    80% {\n",
              "      border-color: transparent;\n",
              "      border-right-color: var(--fill-color);\n",
              "      border-bottom-color: var(--fill-color);\n",
              "    }\n",
              "    90% {\n",
              "      border-color: transparent;\n",
              "      border-bottom-color: var(--fill-color);\n",
              "    }\n",
              "  }\n",
              "</style>\n",
              "\n",
              "  <script>\n",
              "    async function quickchart(key) {\n",
              "      const quickchartButtonEl =\n",
              "        document.querySelector('#' + key + ' button');\n",
              "      quickchartButtonEl.disabled = true;  // To prevent multiple clicks.\n",
              "      quickchartButtonEl.classList.add('colab-df-spinner');\n",
              "      try {\n",
              "        const charts = await google.colab.kernel.invokeFunction(\n",
              "            'suggestCharts', [key], {});\n",
              "      } catch (error) {\n",
              "        console.error('Error during call to suggestCharts:', error);\n",
              "      }\n",
              "      quickchartButtonEl.classList.remove('colab-df-spinner');\n",
              "      quickchartButtonEl.classList.add('colab-df-quickchart-complete');\n",
              "    }\n",
              "    (() => {\n",
              "      let quickchartButtonEl =\n",
              "        document.querySelector('#df-f419f564-9b43-479e-ab64-ad2791e25a39 button');\n",
              "      quickchartButtonEl.style.display =\n",
              "        google.colab.kernel.accessAllowed ? 'block' : 'none';\n",
              "    })();\n",
              "  </script>\n",
              "</div>\n",
              "\n",
              "    </div>\n",
              "  </div>\n"
            ],
            "application/vnd.google.colaboratory.intrinsic+json": {
              "type": "dataframe",
              "variable_name": "df",
              "summary": "{\n  \"name\": \"df\",\n  \"rows\": 29617,\n  \"fields\": [\n    {\n      \"column\": \"SENTENCES \",\n      \"properties\": {\n        \"dtype\": \"string\",\n        \"num_unique_values\": 21604,\n        \"samples\": [\n          \"i had nihari n kabab fri there and enjoy the tast servic wa quick and enviro wa pleasant\",\n          \"he is the irresist watch from abov over hi worshipp and he set guardian over you at length when death approach one of you our angel take hi soul and they never fail in their duti\",\n          \"nihari wa nice sit arrang or nice washroom wa not clean as usual\"\n        ],\n        \"semantic_type\": \"\",\n        \"description\": \"\"\n      }\n    },\n    {\n      \"column\": \"MEANING\",\n      \"properties\": {\n        \"dtype\": \"string\",\n        \"num_unique_values\": 22325,\n        \"samples\": [\n          \"\\u0627\\u0646 \\u06a9\\u06d2 \\u06a9\\u0631\\u062a\\u0648\\u062a \\u06a9 \\u062e\\u0631\\u0627\\u0628\\u06cc\\u0627\\u06ba \\u0627\\u062e\\u0631 \\u0627\\u0646 \\u06a9 \\u062f\\u0627\\u0645\\u0646\\u06af\\u06cc\\u0631 \\u06c1\\u0648 \\u06af\\u0626 \\u0627\\u0648\\u0631 \\u0648\\u06c1 \\u0686\\u06cc\\u0632 \\u0627\\u0646 \\u067e\\u0631 \\u0645\\u0633\\u0644\\u0637 \\u06c1\\u0648 \\u06a9\\u0631 \\u0631\\u06c1 \\u062c\\u0633 \\u06a9\\u0627 \\u0648\\u06c1 \\u0645\\u0630\\u0627\\u0642 \\u0627\\u0691\\u0627\\u06cc\\u0627 \\u06a9\\u0631 \\u062a\\u06be\\u06d2\",\n          \"(\\u06af\\u0648\\u06af\\u0644 \\u06a9\\u06d2 \\u0630\\u0631\\u06cc\\u0639\\u06c1 \\u062a\\u0631\\u062c\\u0645\\u06c1 \\u06a9\\u06cc\\u0627 \\u06af\\u06cc\\u0627) \\u06af\\u06be\\u0679\\u06cc\\u0627 \\u062a\\u0631\\u06cc\\u0646 \\u06a9\\u06be\\u0627\\u0646\\u0627 \\u06af\\u06be\\u0679\\u06cc\\u0627 \\u062a\\u0631\\u06cc\\u0646 \\u0633\\u0631\\u0648\\u0633 \\u0644\\u06cc\\u06a9\\u0646 \\u0642\\u06cc\\u0645 \\u0627\\u0633 \\u0633\\u06d2 \\u06a9\\u06c1 \\u0632\\u06cc\\u0627\\u062f\\u06c1 \\u06c1\\u06d2 \\u0627\\u06af\\u0631 \\u0645\\u0641 \\u067e\\u06cc\\u0634\\u06a9\\u0634 \\u06a9\\u0631\\u06cc\\u0646 \\u062a\\u0628 \\u0628\\u06be \\u0646\\u06c1 \\u062c\\u06cc\\u0646 \\u062f\\u0648\\u0628\\u0627\\u0631\\u0627\",\n          \"\\u06f5|\\u06f6|\\u0645\\u0648\\u0645\\u0646\\u0648 \\u062c\\u0628 \\u062a\\u0645 \\u0646\\u0645\\u0627\\u0632 \\u067e\\u0691\\u06be \\u06a9\\u0627 \\u0642\\u0635\\u062f \\u06a9\\u06cc\\u0627 \\u06a9\\u0631\\u0648 \\u062a\\u0645 \\u0645\\u0646\\u06c1 \\u0627\\u0648\\u0631 \\u06a9\\u06c1\\u0646\\u06cc \\u062a\\u06a9 \\u06c1\\u0627\\u062a\\u06be \\u062f\\u06be\\u0648 \\u0644\\u06cc\\u0627 \\u06a9\\u0631\\u0648 \\u0627\\u0648\\u0631 \\u0633\\u0631 \\u06a9\\u0627 \\u0645\\u0633\\u062d \\u06a9\\u0631 \\u0644\\u06cc\\u0627 \\u06a9\\u0631\\u0648 \\u0627\\u0648\\u0631 \\u0679\\u062e\\u0646 \\u062a\\u06a9 \\u067e\\u0627\\u0624\\u06ba (\\u062f\\u06be\\u0648 \\u0644\\u06cc\\u0627 \\u06a9\\u0631\\u0648) \\u0627\\u0648\\u0631 \\u0627\\u06af\\u0631 \\u0646\\u06c1\\u0627 \\u06a9 \\u062d\\u0627\\u062c \\u06c1\\u0648 \\u062a\\u0648 (\\u0646\\u06c1\\u0627 \\u06a9\\u0631) \\u067e\\u0627\\u06a9 \\u06c1\\u0648 \\u062c\\u0627\\u06cc\\u0627 \\u06a9\\u0631\\u0648 \\u0627\\u0648\\u0631 \\u0627\\u06af\\u0631 \\u0628\\u06cc\\u0645\\u0627\\u0631 \\u06c1\\u0648 \\u06cc\\u0627 \\u0633\\u0641\\u0631 \\u0645 \\u06c1\\u0648 \\u06cc\\u0627 \\u06a9\\u0648\\u0626 \\u062a\\u0645 \\u0645 \\u0633\\u06d2 \\u0628\\u06cc \\u0627\\u0644\\u062e\\u0644\\u0627 \\u0633\\u06d2 \\u06c1\\u0648 \\u06a9\\u0631 \\u0627\\u06cc\\u0627 \\u06c1\\u0648 \\u06cc\\u0627 \\u062a\\u0645 \\u0639\\u0648\\u0631\\u062a \\u0633\\u06d2 \\u06c1\\u0645 \\u0628\\u0633\\u062a\\u0631 \\u06c1\\u0648\\u0626\\u06d2 \\u06c1\\u0648 \\u0627\\u0648\\u0631 \\u062a\\u0645\\u06c1 \\u067e\\u0627\\u0646 \\u0646\\u06c1 \\u0645\\u0644 \\u0633\\u06a9\\u06d2 \\u062a\\u0648 \\u067e\\u0627\\u06a9 \\u0645\\u0679 \\u0644\\u0648 \\u0627\\u0648\\u0631 \\u0627\\u0633 \\u0633\\u06d2 \\u0645\\u0646\\u06c1 \\u0627\\u0648\\u0631 \\u06c1\\u0627\\u062a\\u06be \\u06a9\\u0627 \\u0645\\u0633\\u062d (\\u06cc\\u0639\\u0646 \\u062a\\u06cc\\u0645\\u0645) \\u06a9\\u0631 \\u0644\\u0648 \\u06d4 \\u062e\\u062f\\u0627 \\u062a\\u0645 \\u067e\\u0631 \\u06a9\\u0633 \\u0637\\u0631\\u062d \\u06a9 \\u062a\\u0646\\u06af \\u0646\\u06c1 \\u06a9\\u0631\\u0646\\u0627 \\u0686\\u0627\\u06c1\\u062a\\u0627 \\u0628\\u0644\\u06a9\\u06c1 \\u06cc\\u06c1 \\u0686\\u0627\\u06c1\\u062a\\u0627 \\u06c1\\u06d2 \\u06a9\\u06c1 \\u062a\\u0645\\u06c1 \\u067e\\u0627\\u06a9 \\u06a9\\u0631\\u06d2 \\u0627\\u0648\\u0631 \\u0627\\u067e\\u0646 \\u0646\\u0639\\u0645\\u062a \\u062a\\u0645 \\u067e\\u0631 \\u067e\\u0648\\u0631 \\u06a9\\u0631\\u06d2 \\u062a\\u0627\\u06a9\\u06c1 \\u062a\\u0645 \\u0634\\u06a9\\u0631 \\u06a9\\u0631\\u0648\"\n        ],\n        \"semantic_type\": \"\",\n        \"description\": \"\"\n      }\n    }\n  ]\n}"
            }
          },
          "metadata": {},
          "execution_count": 102
        }
      ]
    },
    {
      "cell_type": "markdown",
      "source": [
        "#conversion of data for nerual net processing"
      ],
      "metadata": {
        "id": "jy3RXVO1R8Ok"
      }
    },
    {
      "cell_type": "markdown",
      "source": [
        "using the keras built-in tokenizer and pad_sequences\n",
        "tokenizer converts the long sentences into tokens\n",
        "pad_sequences ensure consistenty in the input length of sentences feeding to neural net"
      ],
      "metadata": {
        "id": "TRuu0GFgxhAW"
      }
    },
    {
      "cell_type": "code",
      "source": [
        "import tensorflow as tf\n",
        "import keras\n",
        "from tensorflow.keras.preprocessing.text import Tokenizer\n",
        "from tensorflow.keras.preprocessing.sequence import pad_sequences\n"
      ],
      "metadata": {
        "id": "rn21d9aaRgDH"
      },
      "execution_count": 103,
      "outputs": []
    },
    {
      "cell_type": "markdown",
      "source": [
        "#Hyper parameters adjustment"
      ],
      "metadata": {
        "id": "CsRFR_tLTiV4"
      }
    },
    {
      "cell_type": "code",
      "source": [
        "vocab_size=1500\n",
        "embedding_dim=50\n",
        "max_length=500\n",
        "trunc_type='post'\n",
        "oov_tok='<OOV>'"
      ],
      "metadata": {
        "id": "ArJ7EVIqSRby"
      },
      "execution_count": 114,
      "outputs": []
    },
    {
      "cell_type": "markdown",
      "source": [
        "Using the hyper parameters , seperated the sets of data and perfomed nerual net processing ,\n",
        "\n",
        "1.   Tokeinzation\n",
        "2.   Sequences\n",
        "3.   padding\n",
        "\n"
      ],
      "metadata": {
        "id": "wgHJEu7xT1zj"
      }
    },
    {
      "cell_type": "code",
      "source": [
        "train_inputs=train['SENTENCES '].values\n",
        "val_inputs=val['SENTENCES '].values\n",
        "test_inputs=test['SENTENCES '].values\n",
        "\n",
        "\n",
        "val_inputs_str=[str(x) for x in val_inputs]\n",
        "test_inputs_str=[str(x) for x in test_inputs]\n",
        "train_inputs_str = [str(x) for x in train_inputs]\n",
        "\n",
        "\n",
        "#tokenization of input (english sentences)\n",
        "tokenizer=Tokenizer(num_words=vocab_size,oov_token=oov_tok)\n",
        "tokenizer.fit_on_texts(train_inputs_str)\n",
        "\n",
        "#vectorization of input\n",
        "\n",
        "train_sequences = tokenizer.texts_to_sequences(train_inputs_str)\n",
        "val_sequences = tokenizer.texts_to_sequences(val_inputs_str)\n",
        "test_sequences = tokenizer.texts_to_sequences(test_inputs_str)\n",
        "\n",
        "#Pad the sequences to ensure equal length\n",
        "train_padded = pad_sequences(train_sequences, maxlen=max_length, truncating=trunc_type)\n",
        "val_padded = pad_sequences(val_sequences, maxlen=max_length, truncating=trunc_type)\n",
        "test_padded = pad_sequences(test_sequences, maxlen=max_length, truncating=trunc_type)\n"
      ],
      "metadata": {
        "id": "BKFuEBzSTg2-"
      },
      "execution_count": 115,
      "outputs": []
    },
    {
      "cell_type": "code",
      "source": [
        "train_labels=train['MEANING'].values\n",
        "train_labels = [str(x) for x in train_labels]\n",
        "tokenizer.fit_on_texts(train_labels)\n",
        "train_labels_sequences = tokenizer.texts_to_sequences(train_labels)\n",
        "padded_train_labels = pad_sequences(train_labels_sequences, maxlen=max_length, truncating=trunc_type)"
      ],
      "metadata": {
        "id": "tIk2T0NocBRQ"
      },
      "execution_count": 116,
      "outputs": []
    },
    {
      "cell_type": "code",
      "source": [
        "val_labels=val['MEANING'].values\n",
        "val_labels = [str(x) for x in val_labels]\n",
        "# tokenizer=Tokenizer(num_words=vocab_size,oov_token=oov_tok)\n",
        "tokenizer.fit_on_texts(val_labels)\n",
        "val_labels_sequences = tokenizer.texts_to_sequences(val_labels)\n",
        "padded_val_labels = pad_sequences(val_labels_sequences, maxlen=max_length, truncating=trunc_type)"
      ],
      "metadata": {
        "id": "xGz4xjnEfEuw"
      },
      "execution_count": 117,
      "outputs": []
    },
    {
      "cell_type": "code",
      "source": [
        "test_labels=test['MEANING'].values\n",
        "test_labels = [str(x) for x in test_labels]\n",
        "# tokenizer=Tokenizer(num_words=vocab_size,oov_token=oov_tok)\n",
        "tokenizer.fit_on_texts(test_labels)\n",
        "test_labels_sequences = tokenizer.texts_to_sequences(test_labels)\n",
        "padded_test_labels = pad_sequences(test_labels_sequences, maxlen=max_length, truncating=trunc_type)"
      ],
      "metadata": {
        "id": "HNnPWa1xfib4"
      },
      "execution_count": 118,
      "outputs": []
    },
    {
      "cell_type": "code",
      "source": [
        "padded_train_labels.shape,padded_val_labels.shape,padded_test_labels.shape"
      ],
      "metadata": {
        "colab": {
          "base_uri": "https://localhost:8080/"
        },
        "id": "V7GV4yA3dTa7",
        "outputId": "3b41f0f0-be29-4653-b665-8417b49dfef9"
      },
      "execution_count": 119,
      "outputs": [
        {
          "output_type": "execute_result",
          "data": {
            "text/plain": [
              "((23693, 500), (2962, 500), (2962, 500))"
            ]
          },
          "metadata": {},
          "execution_count": 119
        }
      ]
    },
    {
      "cell_type": "markdown",
      "source": [
        "##RNN nerual network architure below"
      ],
      "metadata": {
        "id": "YWJKTzvlyRlB"
      }
    },
    {
      "cell_type": "markdown",
      "source": [
        "this architure contains\n",
        "5 layers\n",
        "1 of RNN to capture the context in sequense of sentences\n",
        "2 Dense Layers to increase the model complexitiy help it understand underlying patterns\n",
        "1 dropout layer just to avoid overfitting\n",
        "1 output layer with activation function of softmax as its best choice for multiclassification/translation\n",
        "\n",
        "using adam as optimizer\n",
        "and for loss calculation = sparse_categorical_crossentropy"
      ],
      "metadata": {
        "id": "CaxzQdVNyZvY"
      }
    },
    {
      "cell_type": "code",
      "source": [
        "from keras_tuner import RandomSearch\n",
        "import tensorflow as tf\n",
        "\n",
        "\n",
        "# model architure defined\n",
        "\n",
        "model=tf.keras.Sequential([\n",
        "    #this layer makes the input ready for nerual network\n",
        "    tf.keras.layers.Embedding(input_dim=vocab_size,output_dim=embedding_dim,input_length=max_length),\n",
        "    #RNN layer\n",
        "    tf.keras.layers.SimpleRNN(128,return_sequences=True),\n",
        "    #dropout layer\n",
        "    tf.keras.layers.Dropout(0.3),\n",
        "    #dense layer\n",
        "    tf.keras.layers.Dense(128,activation='relu',kernel_regularizer=tf.keras.regularizers.l2(0.01)),\n",
        "    #dense output layer using softmax\n",
        "    tf.keras.layers.Dense(vocab_size,activation='softmax')\n",
        "\n",
        "\n",
        "\n",
        "])\n",
        "\n",
        "model.compile(loss='sparse_categorical_crossentropy',optimizer='adam',metrics=['accuracy'])\n",
        "\n",
        "model.summary()\n",
        "\n",
        "#defined callbacks to control the training flow epochs . such as if val_loss doesnt decrease stop . save the trained model and adjust the learning rate if needed\n",
        "callbacks = [\n",
        "    tf.keras.callbacks.EarlyStopping(monitor='val_loss', patience=3, restore_best_weights=True),  # Stop early if val_loss doesn't improve\n",
        "    tf.keras.callbacks.ModelCheckpoint(filepath='best_model.h5.keras', save_best_only=True, monitor='val_loss', verbose=1),  # Save the best model\n",
        "    tf.keras.callbacks.ReduceLROnPlateau(monitor='val_loss', factor=0.2, patience=2, verbose=1)  # Reduce learning rate if no improvement\n",
        "]\n",
        "\n",
        "# Fit the model with callbacks\n",
        "historyRnn = model.fit(\n",
        "    train_padded, padded_train_labels,\n",
        "    batch_size=16, epochs=10,\n",
        "    validation_data=(val_padded, padded_val_labels),\n",
        "    callbacks=callbacks  # Add callbacks here\n",
        ")\n",
        "\n"
      ],
      "metadata": {
        "colab": {
          "base_uri": "https://localhost:8080/",
          "height": 618
        },
        "id": "Q9k2Pc1LQ4dE",
        "outputId": "3f65dbfc-be3c-4320-8052-30ed1b94d58f"
      },
      "execution_count": 122,
      "outputs": [
        {
          "output_type": "display_data",
          "data": {
            "text/plain": [
              "\u001b[1mModel: \"sequential_6\"\u001b[0m\n"
            ],
            "text/html": [
              "<pre style=\"white-space:pre;overflow-x:auto;line-height:normal;font-family:Menlo,'DejaVu Sans Mono',consolas,'Courier New',monospace\"><span style=\"font-weight: bold\">Model: \"sequential_6\"</span>\n",
              "</pre>\n"
            ]
          },
          "metadata": {}
        },
        {
          "output_type": "display_data",
          "data": {
            "text/plain": [
              "┏━━━━━━━━━━━━━━━━━━━━━━━━━━━━━━━━━━━━━━┳━━━━━━━━━━━━━━━━━━━━━━━━━━━━━┳━━━━━━━━━━━━━━━━━┓\n",
              "┃\u001b[1m \u001b[0m\u001b[1mLayer (type)                        \u001b[0m\u001b[1m \u001b[0m┃\u001b[1m \u001b[0m\u001b[1mOutput Shape               \u001b[0m\u001b[1m \u001b[0m┃\u001b[1m \u001b[0m\u001b[1m        Param #\u001b[0m\u001b[1m \u001b[0m┃\n",
              "┡━━━━━━━━━━━━━━━━━━━━━━━━━━━━━━━━━━━━━━╇━━━━━━━━━━━━━━━━━━━━━━━━━━━━━╇━━━━━━━━━━━━━━━━━┩\n",
              "│ embedding_6 (\u001b[38;5;33mEmbedding\u001b[0m)              │ ?                           │     \u001b[38;5;34m0\u001b[0m (unbuilt) │\n",
              "├──────────────────────────────────────┼─────────────────────────────┼─────────────────┤\n",
              "│ simple_rnn_6 (\u001b[38;5;33mSimpleRNN\u001b[0m)             │ ?                           │     \u001b[38;5;34m0\u001b[0m (unbuilt) │\n",
              "├──────────────────────────────────────┼─────────────────────────────┼─────────────────┤\n",
              "│ dropout_6 (\u001b[38;5;33mDropout\u001b[0m)                  │ ?                           │     \u001b[38;5;34m0\u001b[0m (unbuilt) │\n",
              "├──────────────────────────────────────┼─────────────────────────────┼─────────────────┤\n",
              "│ dense_13 (\u001b[38;5;33mDense\u001b[0m)                     │ ?                           │     \u001b[38;5;34m0\u001b[0m (unbuilt) │\n",
              "├──────────────────────────────────────┼─────────────────────────────┼─────────────────┤\n",
              "│ dense_14 (\u001b[38;5;33mDense\u001b[0m)                     │ ?                           │     \u001b[38;5;34m0\u001b[0m (unbuilt) │\n",
              "└──────────────────────────────────────┴─────────────────────────────┴─────────────────┘\n"
            ],
            "text/html": [
              "<pre style=\"white-space:pre;overflow-x:auto;line-height:normal;font-family:Menlo,'DejaVu Sans Mono',consolas,'Courier New',monospace\">┏━━━━━━━━━━━━━━━━━━━━━━━━━━━━━━━━━━━━━━┳━━━━━━━━━━━━━━━━━━━━━━━━━━━━━┳━━━━━━━━━━━━━━━━━┓\n",
              "┃<span style=\"font-weight: bold\"> Layer (type)                         </span>┃<span style=\"font-weight: bold\"> Output Shape                </span>┃<span style=\"font-weight: bold\">         Param # </span>┃\n",
              "┡━━━━━━━━━━━━━━━━━━━━━━━━━━━━━━━━━━━━━━╇━━━━━━━━━━━━━━━━━━━━━━━━━━━━━╇━━━━━━━━━━━━━━━━━┩\n",
              "│ embedding_6 (<span style=\"color: #0087ff; text-decoration-color: #0087ff\">Embedding</span>)              │ ?                           │     <span style=\"color: #00af00; text-decoration-color: #00af00\">0</span> (unbuilt) │\n",
              "├──────────────────────────────────────┼─────────────────────────────┼─────────────────┤\n",
              "│ simple_rnn_6 (<span style=\"color: #0087ff; text-decoration-color: #0087ff\">SimpleRNN</span>)             │ ?                           │     <span style=\"color: #00af00; text-decoration-color: #00af00\">0</span> (unbuilt) │\n",
              "├──────────────────────────────────────┼─────────────────────────────┼─────────────────┤\n",
              "│ dropout_6 (<span style=\"color: #0087ff; text-decoration-color: #0087ff\">Dropout</span>)                  │ ?                           │     <span style=\"color: #00af00; text-decoration-color: #00af00\">0</span> (unbuilt) │\n",
              "├──────────────────────────────────────┼─────────────────────────────┼─────────────────┤\n",
              "│ dense_13 (<span style=\"color: #0087ff; text-decoration-color: #0087ff\">Dense</span>)                     │ ?                           │     <span style=\"color: #00af00; text-decoration-color: #00af00\">0</span> (unbuilt) │\n",
              "├──────────────────────────────────────┼─────────────────────────────┼─────────────────┤\n",
              "│ dense_14 (<span style=\"color: #0087ff; text-decoration-color: #0087ff\">Dense</span>)                     │ ?                           │     <span style=\"color: #00af00; text-decoration-color: #00af00\">0</span> (unbuilt) │\n",
              "└──────────────────────────────────────┴─────────────────────────────┴─────────────────┘\n",
              "</pre>\n"
            ]
          },
          "metadata": {}
        },
        {
          "output_type": "display_data",
          "data": {
            "text/plain": [
              "\u001b[1m Total params: \u001b[0m\u001b[38;5;34m0\u001b[0m (0.00 B)\n"
            ],
            "text/html": [
              "<pre style=\"white-space:pre;overflow-x:auto;line-height:normal;font-family:Menlo,'DejaVu Sans Mono',consolas,'Courier New',monospace\"><span style=\"font-weight: bold\"> Total params: </span><span style=\"color: #00af00; text-decoration-color: #00af00\">0</span> (0.00 B)\n",
              "</pre>\n"
            ]
          },
          "metadata": {}
        },
        {
          "output_type": "display_data",
          "data": {
            "text/plain": [
              "\u001b[1m Trainable params: \u001b[0m\u001b[38;5;34m0\u001b[0m (0.00 B)\n"
            ],
            "text/html": [
              "<pre style=\"white-space:pre;overflow-x:auto;line-height:normal;font-family:Menlo,'DejaVu Sans Mono',consolas,'Courier New',monospace\"><span style=\"font-weight: bold\"> Trainable params: </span><span style=\"color: #00af00; text-decoration-color: #00af00\">0</span> (0.00 B)\n",
              "</pre>\n"
            ]
          },
          "metadata": {}
        },
        {
          "output_type": "display_data",
          "data": {
            "text/plain": [
              "\u001b[1m Non-trainable params: \u001b[0m\u001b[38;5;34m0\u001b[0m (0.00 B)\n"
            ],
            "text/html": [
              "<pre style=\"white-space:pre;overflow-x:auto;line-height:normal;font-family:Menlo,'DejaVu Sans Mono',consolas,'Courier New',monospace\"><span style=\"font-weight: bold\"> Non-trainable params: </span><span style=\"color: #00af00; text-decoration-color: #00af00\">0</span> (0.00 B)\n",
              "</pre>\n"
            ]
          },
          "metadata": {}
        },
        {
          "output_type": "stream",
          "name": "stdout",
          "text": [
            "Epoch 1/10\n",
            "\u001b[1m1481/1481\u001b[0m \u001b[32m━━━━━━━━━━━━━━━━━━━━\u001b[0m\u001b[37m\u001b[0m \u001b[1m0s\u001b[0m 764ms/step - accuracy: 0.9584 - loss: 0.8595\n",
            "Epoch 1: val_loss improved from inf to 0.25025, saving model to best_model.h5.keras\n",
            "\u001b[1m1481/1481\u001b[0m \u001b[32m━━━━━━━━━━━━━━━━━━━━\u001b[0m\u001b[37m\u001b[0m \u001b[1m1270s\u001b[0m 820ms/step - accuracy: 0.9584 - loss: 0.8592 - val_accuracy: 0.9737 - val_loss: 0.2503 - learning_rate: 0.0010\n",
            "Epoch 2/10\n",
            "\u001b[1m1481/1481\u001b[0m \u001b[32m━━━━━━━━━━━━━━━━━━━━\u001b[0m\u001b[37m\u001b[0m \u001b[1m0s\u001b[0m 850ms/step - accuracy: 0.9741 - loss: 0.1891\n",
            "Epoch 2: val_loss did not improve from 0.25025\n",
            "\u001b[1m1481/1481\u001b[0m \u001b[32m━━━━━━━━━━━━━━━━━━━━\u001b[0m\u001b[37m\u001b[0m \u001b[1m1347s\u001b[0m 905ms/step - accuracy: 0.9741 - loss: 0.1891 - val_accuracy: 0.9737 - val_loss: 0.2538 - learning_rate: 0.0010\n",
            "Epoch 3/10\n",
            "\u001b[1m1481/1481\u001b[0m \u001b[32m━━━━━━━━━━━━━━━━━━━━\u001b[0m\u001b[37m\u001b[0m \u001b[1m0s\u001b[0m 815ms/step - accuracy: 0.9744 - loss: 0.1835\n",
            "Epoch 3: val_loss did not improve from 0.25025\n",
            "\n",
            "Epoch 3: ReduceLROnPlateau reducing learning rate to 0.00020000000949949026.\n",
            "\u001b[1m1481/1481\u001b[0m \u001b[32m━━━━━━━━━━━━━━━━━━━━\u001b[0m\u001b[37m\u001b[0m \u001b[1m1280s\u001b[0m 864ms/step - accuracy: 0.9744 - loss: 0.1835 - val_accuracy: 0.9738 - val_loss: 0.2676 - learning_rate: 0.0010\n",
            "Epoch 4/10\n",
            "\u001b[1m1481/1481\u001b[0m \u001b[32m━━━━━━━━━━━━━━━━━━━━\u001b[0m\u001b[37m\u001b[0m \u001b[1m0s\u001b[0m 776ms/step - accuracy: 0.9746 - loss: 0.1781\n",
            "Epoch 4: val_loss did not improve from 0.25025\n",
            "\u001b[1m1481/1481\u001b[0m \u001b[32m━━━━━━━━━━━━━━━━━━━━\u001b[0m\u001b[37m\u001b[0m \u001b[1m1234s\u001b[0m 832ms/step - accuracy: 0.9746 - loss: 0.1781 - val_accuracy: 0.9738 - val_loss: 0.2670 - learning_rate: 2.0000e-04\n"
          ]
        }
      ]
    },
    {
      "cell_type": "markdown",
      "source": [
        "##SAVED My best model and loading it and using it.\n",
        "At 4th Epoch the validation loss is 0.2670 but the at epoch 1 its 0.2503 . SO my best model which was saved to keras file was after the first epoch . now importing it and testing on test dataset and use it to translate text"
      ],
      "metadata": {
        "id": "HLDFOh-Z9I59"
      }
    },
    {
      "cell_type": "code",
      "source": [
        "model=tf.keras.models.load_model('/content/best_model.h5.keras')"
      ],
      "metadata": {
        "id": "g8OeqCpB9IOf"
      },
      "execution_count": 123,
      "outputs": []
    },
    {
      "cell_type": "markdown",
      "source": [
        "## RNN performance on test data\n",
        "#accuracy = 97 %\n",
        "#loss = 25 %"
      ],
      "metadata": {
        "id": "5QgNbTZk-frm"
      }
    },
    {
      "cell_type": "code",
      "source": [
        "model.evaluate(test_padded,padded_test_labels)"
      ],
      "metadata": {
        "colab": {
          "base_uri": "https://localhost:8080/"
        },
        "id": "y_4lnsGd95pZ",
        "outputId": "15d3e050-3123-4284-9214-5b0ce79abc25"
      },
      "execution_count": 124,
      "outputs": [
        {
          "output_type": "stream",
          "name": "stdout",
          "text": [
            "\u001b[1m93/93\u001b[0m \u001b[32m━━━━━━━━━━━━━━━━━━━━\u001b[0m\u001b[37m\u001b[0m \u001b[1m81s\u001b[0m 865ms/step - accuracy: 0.9735 - loss: 0.2584\n"
          ]
        },
        {
          "output_type": "execute_result",
          "data": {
            "text/plain": [
              "[0.2544456124305725, 0.9739329814910889]"
            ]
          },
          "metadata": {},
          "execution_count": 124
        }
      ]
    },
    {
      "cell_type": "code",
      "source": [
        "new_data = [\"hello how are you\"]\n",
        "new_sequences = tokenizer.texts_to_sequences(new_data)\n",
        "new_padded = tf.keras.preprocessing.sequence.pad_sequences(new_sequences, maxlen=max_length, truncating=trunc_type)\n",
        "\n",
        "# Make predictions\n",
        "predictions = model.predict(new_padded)\n",
        "\n",
        "# View the prediction result\n",
        "print(predictions)"
      ],
      "metadata": {
        "colab": {
          "base_uri": "https://localhost:8080/"
        },
        "id": "pfo0l0vZ-x7j",
        "outputId": "12b42f1d-a8d2-4114-822e-2bb6c680830e"
      },
      "execution_count": 126,
      "outputs": [
        {
          "output_type": "stream",
          "name": "stdout",
          "text": [
            "\u001b[1m1/1\u001b[0m \u001b[32m━━━━━━━━━━━━━━━━━━━━\u001b[0m\u001b[37m\u001b[0m \u001b[1m0s\u001b[0m 54ms/step\n",
            "[[[9.9065256e-01 1.3518749e-03 3.5184604e-04 ... 1.0724129e-06\n",
            "   1.4456984e-06 1.3359435e-06]\n",
            "  [9.9600631e-01 7.5074559e-04 1.7509384e-04 ... 3.2593641e-07\n",
            "   4.5001062e-07 4.1466251e-07]\n",
            "  [9.9600202e-01 7.5251318e-04 1.7532233e-04 ... 3.2594434e-07\n",
            "   4.4989150e-07 4.1472322e-07]\n",
            "  ...\n",
            "  [5.7951774e-02 1.7754906e-01 2.8730290e-02 ... 1.3339426e-04\n",
            "   1.5183353e-04 1.8743522e-04]\n",
            "  [2.4383990e-02 1.7779148e-01 2.7755516e-02 ... 1.4730290e-04\n",
            "   1.6342259e-04 2.0754403e-04]\n",
            "  [2.3014495e-02 1.8132067e-01 2.7834250e-02 ... 1.4506336e-04\n",
            "   1.6053850e-04 2.0459321e-04]]]\n"
          ]
        }
      ]
    },
    {
      "cell_type": "code",
      "source": [
        "predicted_sequence = np.argmax(predictions, axis=-1)\n",
        "\n",
        "# Convert the predicted sequence of indices back to words\n",
        "predicted_sentence = [tokenizer.index_word.get(index, '<OOV>') for index in predicted_sequence[0]]\n",
        "\n",
        "# Join the words to form a sentence\n",
        "predicted_sentence_str = ' '.join(predicted_sentence)\n",
        "print(predicted_sentence_str)"
      ],
      "metadata": {
        "colab": {
          "base_uri": "https://localhost:8080/"
        },
        "id": "3kT6lpub_JLD",
        "outputId": "51a8aa0a-90f1-40ab-f980-2055d1d289ff"
      },
      "execution_count": 129,
      "outputs": [
        {
          "output_type": "stream",
          "name": "stdout",
          "text": [
            "<OOV> <OOV> <OOV> <OOV> <OOV> <OOV> <OOV> <OOV> <OOV> <OOV> <OOV> <OOV> <OOV> <OOV> <OOV> <OOV> <OOV> <OOV> <OOV> <OOV> <OOV> <OOV> <OOV> <OOV> <OOV> <OOV> <OOV> <OOV> <OOV> <OOV> <OOV> <OOV> <OOV> <OOV> <OOV> <OOV> <OOV> <OOV> <OOV> <OOV> <OOV> <OOV> <OOV> <OOV> <OOV> <OOV> <OOV> <OOV> <OOV> <OOV> <OOV> <OOV> <OOV> <OOV> <OOV> <OOV> <OOV> <OOV> <OOV> <OOV> <OOV> <OOV> <OOV> <OOV> <OOV> <OOV> <OOV> <OOV> <OOV> <OOV> <OOV> <OOV> <OOV> <OOV> <OOV> <OOV> <OOV> <OOV> <OOV> <OOV> <OOV> <OOV> <OOV> <OOV> <OOV> <OOV> <OOV> <OOV> <OOV> <OOV> <OOV> <OOV> <OOV> <OOV> <OOV> <OOV> <OOV> <OOV> <OOV> <OOV> <OOV> <OOV> <OOV> <OOV> <OOV> <OOV> <OOV> <OOV> <OOV> <OOV> <OOV> <OOV> <OOV> <OOV> <OOV> <OOV> <OOV> <OOV> <OOV> <OOV> <OOV> <OOV> <OOV> <OOV> <OOV> <OOV> <OOV> <OOV> <OOV> <OOV> <OOV> <OOV> <OOV> <OOV> <OOV> <OOV> <OOV> <OOV> <OOV> <OOV> <OOV> <OOV> <OOV> <OOV> <OOV> <OOV> <OOV> <OOV> <OOV> <OOV> <OOV> <OOV> <OOV> <OOV> <OOV> <OOV> <OOV> <OOV> <OOV> <OOV> <OOV> <OOV> <OOV> <OOV> <OOV> <OOV> <OOV> <OOV> <OOV> <OOV> <OOV> <OOV> <OOV> <OOV> <OOV> <OOV> <OOV> <OOV> <OOV> <OOV> <OOV> <OOV> <OOV> <OOV> <OOV> <OOV> <OOV> <OOV> <OOV> <OOV> <OOV> <OOV> <OOV> <OOV> <OOV> <OOV> <OOV> <OOV> <OOV> <OOV> <OOV> <OOV> <OOV> <OOV> <OOV> <OOV> <OOV> <OOV> <OOV> <OOV> <OOV> <OOV> <OOV> <OOV> <OOV> <OOV> <OOV> <OOV> <OOV> <OOV> <OOV> <OOV> <OOV> <OOV> <OOV> <OOV> <OOV> <OOV> <OOV> <OOV> <OOV> <OOV> <OOV> <OOV> <OOV> <OOV> <OOV> <OOV> <OOV> <OOV> <OOV> <OOV> <OOV> <OOV> <OOV> <OOV> <OOV> <OOV> <OOV> <OOV> <OOV> <OOV> <OOV> <OOV> <OOV> <OOV> <OOV> <OOV> <OOV> <OOV> <OOV> <OOV> <OOV> <OOV> <OOV> <OOV> <OOV> <OOV> <OOV> <OOV> <OOV> <OOV> <OOV> <OOV> <OOV> <OOV> <OOV> <OOV> <OOV> <OOV> <OOV> <OOV> <OOV> <OOV> <OOV> <OOV> <OOV> <OOV> <OOV> <OOV> <OOV> <OOV> <OOV> <OOV> <OOV> <OOV> <OOV> <OOV> <OOV> <OOV> <OOV> <OOV> <OOV> <OOV> <OOV> <OOV> <OOV> <OOV> <OOV> <OOV> <OOV> <OOV> <OOV> <OOV> <OOV> <OOV> <OOV> <OOV> <OOV> <OOV> <OOV> <OOV> <OOV> <OOV> <OOV> <OOV> <OOV> <OOV> <OOV> <OOV> <OOV> <OOV> <OOV> <OOV> <OOV> <OOV> <OOV> <OOV> <OOV> <OOV> <OOV> <OOV> <OOV> <OOV> <OOV> <OOV> <OOV> <OOV> <OOV> <OOV> <OOV> <OOV> <OOV> <OOV> <OOV> <OOV> <OOV> <OOV> <OOV> <OOV> <OOV> <OOV> <OOV> <OOV> <OOV> <OOV> <OOV> <OOV> <OOV> <OOV> <OOV> <OOV> <OOV> <OOV> <OOV> <OOV> <OOV> <OOV> <OOV> <OOV> <OOV> <OOV> <OOV> <OOV> <OOV> <OOV> <OOV> <OOV> <OOV> <OOV> <OOV> <OOV> <OOV> <OOV> <OOV> <OOV> <OOV> <OOV> <OOV> <OOV> <OOV> <OOV> <OOV> <OOV> <OOV> <OOV> <OOV> <OOV> <OOV> <OOV> <OOV> <OOV> <OOV> <OOV> <OOV> <OOV> <OOV> <OOV> <OOV> <OOV> <OOV> <OOV> <OOV> <OOV> <OOV> <OOV> <OOV> <OOV> <OOV> <OOV> <OOV> <OOV> <OOV> <OOV> <OOV> <OOV> <OOV> <OOV> <OOV> <OOV> <OOV> <OOV> <OOV> <OOV> <OOV> <OOV> <OOV> <OOV> <OOV> <OOV> <OOV> <OOV> <OOV> <OOV> <OOV> <OOV> <OOV> <OOV> <OOV> <OOV> <OOV> <OOV> <OOV> <OOV> <OOV> <OOV> <OOV> <OOV> <OOV> <OOV> <OOV> <OOV> <OOV> <OOV> <OOV> <OOV> <OOV> <OOV> <OOV> <OOV> <OOV> <OOV> <OOV> <OOV> <OOV> <OOV> <OOV> <OOV> <OOV> <OOV> <OOV> <OOV> <OOV> <OOV> <OOV> <OOV> <OOV> <OOV> <OOV> <OOV>\n"
          ]
        }
      ]
    },
    {
      "cell_type": "code",
      "source": [
        "def translate_english_to_urdu(input_text):\n",
        "    # Step 1: Preprocess the input\n",
        "    input_text = str(input_text)  # Ensure it's a string\n",
        "    input_sequence = tokenizer.texts_to_sequences([input_text])  # Tokenize the input text\n",
        "    input_padded = pad_sequences(input_sequence, maxlen=max_length, truncating=trunc_type)  # Pad the sequence\n",
        "\n",
        "    # Step 2: Predict the Urdu sequence\n",
        "    prediction = model.predict(input_padded)  # Get the model's output (predicted token indices)\n",
        "\n",
        "    # Step 3: Post-process the prediction\n",
        "    # Get the index of the word with the highest probability at each time step\n",
        "    predicted_sequence = np.argmax(prediction, axis=-1)[0]  # Take the first sequence in the batch\n",
        "\n",
        "    # Step 4: Convert the predicted token indices back to words\n",
        "    urdu_translation = ''\n",
        "    for token in predicted_sequence:\n",
        "        if token != 0:  # Skip padding tokens\n",
        "            word = tokenizer.index_word.get(token, '<OOV>')  # Convert index to word, or OOV if not found\n",
        "            urdu_translation += word + ' '\n",
        "\n",
        "    return urdu_translation.strip()  # Return the final translation\n",
        "\n",
        "# Example usage:\n",
        "english_input = \"what are you doing?\"\n",
        "urdu_output = translate_english_to_urdu(english_input)\n",
        "print(f\"Input: {english_input} => Predicted Urdu Translation: {urdu_output}\")\n"
      ],
      "metadata": {
        "colab": {
          "base_uri": "https://localhost:8080/"
        },
        "id": "CoxAHlG5ZlkO",
        "outputId": "e1444d34-7c70-42d8-c2ba-539e5a773a0b"
      },
      "execution_count": 125,
      "outputs": [
        {
          "output_type": "stream",
          "name": "stdout",
          "text": [
            "\u001b[1m1/1\u001b[0m \u001b[32m━━━━━━━━━━━━━━━━━━━━\u001b[0m\u001b[37m\u001b[0m \u001b[1m0s\u001b[0m 342ms/step\n",
            "Input: what are you doing? => Predicted Urdu Translation: <OOV> <OOV> <OOV>\n"
          ]
        }
      ]
    },
    {
      "cell_type": "code",
      "source": [
        "\n",
        "def Model_ready_input(text):\n",
        "  text=str(text)\n",
        "  text=Normalize_Input(text)\n",
        "  text_sequence = tokenizer.texts_to_sequences([text])\n",
        "  text_padded = pad_sequences(text_sequence, maxlen=max_length, truncating=trunc_type)\n",
        "  return text_padded\n"
      ],
      "metadata": {
        "id": "ET_DGkKBsQu7"
      },
      "execution_count": 288,
      "outputs": []
    },
    {
      "cell_type": "code",
      "source": [
        "model.evaluate(test_padded,padded_test_labels)\n"
      ],
      "metadata": {
        "colab": {
          "base_uri": "https://localhost:8080/"
        },
        "id": "7T2fT2Chsmt1",
        "outputId": "a6c17bb2-3554-4541-9cb6-90090d156103"
      },
      "execution_count": 163,
      "outputs": [
        {
          "output_type": "stream",
          "name": "stdout",
          "text": [
            "\u001b[1m93/93\u001b[0m \u001b[32m━━━━━━━━━━━━━━━━━━━━\u001b[0m\u001b[37m\u001b[0m \u001b[1m19s\u001b[0m 205ms/step - accuracy: 0.9364 - loss: 0.6235\n"
          ]
        },
        {
          "output_type": "execute_result",
          "data": {
            "text/plain": [
              "[0.6053740978240967, 0.9382546544075012]"
            ]
          },
          "metadata": {},
          "execution_count": 163
        }
      ]
    },
    {
      "cell_type": "markdown",
      "source": [
        "#Translating english to urdu"
      ],
      "metadata": {
        "id": "lGzfsUdWtAr8"
      }
    },
    {
      "cell_type": "code",
      "source": [],
      "metadata": {
        "id": "5KcI-6LBcMzJ"
      },
      "execution_count": null,
      "outputs": []
    },
    {
      "cell_type": "code",
      "source": [
        "def translate_english_to_urdu(input_text):\n",
        "    # Step 1: Preprocess the input\n",
        "    input_text = str(input_text)  # Ensure it's a string\n",
        "    input_sequence = tokenizer.texts_to_sequences([input_text])  # Tokenize the input text\n",
        "    input_padded = pad_sequences(input_sequence, maxlen=max_length, truncating=trunc_type)  # Pad the sequence\n",
        "\n",
        "    # Step 2: Predict the Urdu sequence\n",
        "    prediction = model.predict(input_padded)  # Get the model's output (predicted token indices)\n",
        "\n",
        "    # Step 3: Post-process the prediction\n",
        "    # Get the index of the word with the highest probability at each time step\n",
        "    predicted_sequence = np.argmax(prediction, axis=-1)[0]  # Take the first sequence in the batch\n",
        "\n",
        "    # Step 4: Convert the predicted token indices back to words\n",
        "    urdu_translation = ''\n",
        "    for token in predicted_sequence:\n",
        "        if token != 0:  # Skip padding tokens\n",
        "            word = tokenizer.index_word.get(token, '<OOV>')  # Convert index to word, or OOV if not found\n",
        "            urdu_translation += word + ' '\n",
        "\n",
        "    return urdu_translation.strip()  # Return the final translation\n",
        "\n",
        "# Example usage:\n",
        "english_input = \"How are you?\"\n",
        "urdu_output = translate_english_to_urdu(english_input)\n",
        "print(f\"Input: {english_input} => Predicted Urdu Translation: {urdu_output}\")\n"
      ],
      "metadata": {
        "colab": {
          "base_uri": "https://localhost:8080/"
        },
        "id": "2CgfcNyhbxT7",
        "outputId": "4e012e26-ae0b-46f6-8c68-bf44f2abd4b9"
      },
      "execution_count": 165,
      "outputs": [
        {
          "output_type": "stream",
          "name": "stdout",
          "text": [
            "\u001b[1m1/1\u001b[0m \u001b[32m━━━━━━━━━━━━━━━━━━━━\u001b[0m\u001b[37m\u001b[0m \u001b[1m0s\u001b[0m 74ms/step\n",
            "Input: How are you? => Predicted Urdu Translation: <OOV> <OOV>\n"
          ]
        }
      ]
    },
    {
      "cell_type": "markdown",
      "source": [
        "##Testing on small dataset"
      ],
      "metadata": {
        "id": "dN2ONMWf7bEZ"
      }
    },
    {
      "cell_type": "code",
      "source": [
        "import pandas as pd\n",
        "\n",
        "# Create a DataFrame with 100 sentences\n",
        "data = {\n",
        "    'english': [\n",
        "        \"Hello, how are you?\",\n",
        "        \"What is your name?\",\n",
        "        \"I am learning.\",\n",
        "        \"Where do you live?\",\n",
        "        \"It is a beautiful day.\",\n",
        "        \"I love reading books.\",\n",
        "        \"How old are you?\",\n",
        "        \"This is my favorite movie.\",\n",
        "        \"Can you help me?\",\n",
        "        \"Thank you very much!\",\n",
        "        \"What time is it?\",\n",
        "        \"I am feeling happy today.\",\n",
        "        \"The weather is nice.\",\n",
        "        \"Where are you going?\",\n",
        "        \"I want to learn more.\",\n",
        "        \"Do you speak English?\",\n",
        "        \"She is my best friend.\",\n",
        "        \"Can I get some water?\",\n",
        "        \"I will meet you tomorrow.\",\n",
        "        \"Please close the door.\",\n",
        "        \"Where is the nearest restaurant?\",\n",
        "        \"This is a difficult problem.\",\n",
        "        \"I have a question for you.\",\n",
        "        \"Can we go out tonight?\",\n",
        "        \"He is a good person.\",\n",
        "        \"I forgot my phone at home.\",\n",
        "        \"We are having dinner now.\",\n",
        "        \"I enjoy listening to music.\",\n",
        "        \"The book was very interesting.\",\n",
        "        \"He works in a big company.\",\n",
        "        \"I am very tired today.\",\n",
        "        \"Do you know the answer?\",\n",
        "        \"I hope you have a good day.\",\n",
        "        \"What is the price of this?\",\n",
        "        \"She sings beautifully.\",\n",
        "        \"We are going to the market.\",\n",
        "        \"Can I borrow your pen?\",\n",
        "        \"I am waiting for the bus.\",\n",
        "        \"What did you say?\",\n",
        "        \"I am studying for my exams.\",\n",
        "        \"The food is very tasty.\",\n",
        "        \"I am going to the gym.\",\n",
        "        \"Where is your brother?\",\n",
        "        \"I am watching a movie.\",\n",
        "        \"Please pass me the salt.\",\n",
        "        \"The baby is sleeping.\",\n",
        "        \"It is raining outside.\",\n",
        "        \"He is my younger brother.\",\n",
        "        \"I need some help with this.\",\n",
        "        \"I am visiting my grandparents.\",\n",
        "        \"She is wearing a red dress.\",\n",
        "        \"I will be back soon.\",\n",
        "        \"Are you coming to the party?\",\n",
        "        \"The meeting is at 10 AM.\",\n",
        "        \"I am going on a trip next week.\",\n",
        "        \"The flowers are beautiful.\",\n",
        "        \"I need to go to the bank.\",\n",
        "        \"The sun is shining brightly.\",\n",
        "        \"I will call you later.\",\n",
        "        \"She is reading a book.\",\n",
        "        \"We are going on vacation.\",\n",
        "        \"The car is parked outside.\",\n",
        "        \"I like playing football.\",\n",
        "        \"The house is very big.\",\n",
        "        \"I am cooking dinner.\",\n",
        "        \"The sky is clear today.\",\n",
        "        \"I lost my wallet.\",\n",
        "        \"The cake is delicious.\",\n",
        "        \"Can you come with me?\",\n",
        "        \"I need to buy some groceries.\",\n",
        "        \"She is talking to her friend.\",\n",
        "        \"The cat is sitting on the chair.\",\n",
        "        \"I am learning a new language.\",\n",
        "        \"He is writing a letter.\",\n",
        "        \"I am going to bed now.\",\n",
        "        \"Please turn off the lights.\",\n",
        "        \"I need to finish my homework.\",\n",
        "        \"We are going to the park.\",\n",
        "        \"I am working on a project.\",\n",
        "        \"The children are playing outside.\",\n",
        "        \"She is baking a cake.\",\n",
        "        \"I am looking for my keys.\",\n",
        "        \"The train is arriving soon.\",\n",
        "        \"The meeting has been canceled.\",\n",
        "        \"Can you lend me some money?\",\n",
        "        \"I am planning a party.\",\n",
        "        \"The dog is barking loudly.\",\n",
        "        \"She is wearing glasses.\",\n",
        "        \"I am cleaning the house.\",\n",
        "        \"The news is very important.\",\n",
        "        \"We are going to the beach.\",\n",
        "        \"I am feeling a little sick.\",\n",
        "        \"The exam was difficult.\",\n",
        "        \"I am going to visit a friend.\",\n",
        "        \"The street is very busy.\",\n",
        "        \"I have finished my work.\",\n",
        "        \"I am going to the doctor.\",\n",
        "        \"The plane is taking off.\",\n",
        "        \"I am sending an email.\",\n",
        "        \"He is driving the car.\",\n",
        "        \"We are moving to a new house.\",\n",
        "        \"The restaurant is very crowded.\",\n",
        "        \"I am learning to play the guitar.\",\n",
        "        \"I am going to the library.\",\n",
        "        \"He is swimming in the pool.\"\n",
        "    ],\n",
        "    'urdu': [\n",
        "        \"ہیلو، آپ کیسے ہیں؟\",\n",
        "        \"آپ کا نام کیا ہے؟\",\n",
        "        \"میں سیکھ رہا ہوں۔\",\n",
        "        \"آپ کہاں رہتے ہیں؟\",\n",
        "        \"یہ ایک خوبصورت دن ہے۔\",\n",
        "        \"مجھے کتابیں پڑھنا پسند ہے۔\",\n",
        "        \"آپ کی عمر کیا ہے؟\",\n",
        "        \"یہ میری پسندیدہ فلم ہے۔\",\n",
        "        \"کیا آپ میری مدد کر سکتے ہیں؟\",\n",
        "        \"آپ کا بہت شکریہ!\",\n",
        "        \"کتنا وقت ہوا ہے؟\",\n",
        "        \"آج میں خوش محسوس کر رہا ہوں۔\",\n",
        "        \"موسم اچھا ہے۔\",\n",
        "        \"آپ کہاں جا رہے ہیں؟\",\n",
        "        \"میں مزید سیکھنا چاہتا ہوں۔\",\n",
        "        \"کیا آپ انگریزی بولتے ہیں؟\",\n",
        "        \"وہ میری بہترین دوست ہے۔\",\n",
        "        \"کیا مجھے کچھ پانی مل سکتا ہے؟\",\n",
        "        \"میں کل آپ سے ملوں گا۔\",\n",
        "        \"براہ کرم دروازہ بند کر دیں۔\",\n",
        "        \"سب سے قریبی ریستوران کہاں ہے؟\",\n",
        "        \"یہ ایک مشکل مسئلہ ہے۔\",\n",
        "        \"میرے پاس آپ کے لئے ایک سوال ہے۔\",\n",
        "        \"کیا ہم آج رات باہر جا سکتے ہیں؟\",\n",
        "        \"وہ ایک اچھا انسان ہے۔\",\n",
        "        \"میں نے اپنا فون گھر بھول گیا ہوں۔\",\n",
        "        \"ہم ابھی رات کا کھانا کھا رہے ہیں۔\",\n",
        "        \"مجھے موسیقی سننا پسند ہے۔\",\n",
        "        \"یہ کتاب بہت دلچسپ تھی۔\",\n",
        "        \"وہ ایک بڑی کمپنی میں کام کرتا ہے۔\",\n",
        "        \"آج میں بہت تھکا ہوا ہوں۔\",\n",
        "        \"کیا آپ جواب جانتے ہیں؟\",\n",
        "        \"میں امید کرتا ہوں کہ آپ کا دن اچھا گزرے۔\",\n",
        "        \"اس کی قیمت کیا ہے؟\",\n",
        "        \"وہ بہت خوبصورت گاتی ہے۔\",\n",
        "        \"ہم بازار جا رہے ہیں۔\",\n",
        "        \"کیا میں آپ کا قلم لے سکتا ہوں؟\",\n",
        "        \"میں بس کے انتظار میں ہوں۔\",\n",
        "        \"آپ نے کیا کہا؟\",\n",
        "        \"میں اپنے امتحانات کی تیاری کر رہا ہوں۔\",\n",
        "        \"کھانا بہت لذیذ ہے۔\",\n",
        "        \"میں جم جا رہا ہوں۔\",\n",
        "        \"آپ کا بھائی کہاں ہے؟\",\n",
        "        \"میں فلم دیکھ رہا ہوں۔\",\n",
        "        \"براہ کرم مجھے نمک دے دیں۔\",\n",
        "        \"بچہ سو رہا ہے۔\",\n",
        "        \"باہر بارش ہو رہی ہے۔\",\n",
        "        \"وہ میرا چھوٹا بھائی ہے۔\",\n",
        "        \"مجھے اس میں کچھ مدد کی ضرورت ہے۔\",\n",
        "        \"میں اپنے دادا دادی سے ملنے جا رہا ہوں۔\",\n",
        "        \"وہ ایک سرخ لباس پہنی ہوئی ہے۔\",\n",
        "        \"میں جلد واپس آؤں گا۔\",\n",
        "        \"کیا آپ پارٹی میں آ رہے ہیں؟\",\n",
        "        \"میٹنگ صبح 10 بجے ہے۔\",\n",
        "        \"میں اگلے ہفتے ایک سفر پر جا رہا ہوں۔\",\n",
        "        \"پھول بہت خوبصورت ہیں۔\",\n",
        "        \"مجھے بینک جانا ہے۔\",\n",
        "        \"سورج چمک رہا ہے۔\",\n",
        "        \"میں بعد میں آپ کو کال کروں گا۔\",\n",
        "        \"وہ کتاب پڑھ رہی ہے۔\",\n",
        "        \"ہم چھٹی پر جا رہے ہیں۔\",\n",
        "        \"گاڑی باہر کھڑی ہے۔\",\n",
        "        \"مجھے فٹ بال کھیلنا پسند ہے۔\",\n",
        "        \"گھر بہت بڑا ہے۔\",\n",
        "        \"میں رات کا کھانا بنا رہا ہوں۔\",\n",
        "        \"آج آسمان صاف ہے۔\",\n",
        "        \"میں نے اپنا بٹوہ کھو دیا ہے۔\",\n",
        "        \"کیک بہت مزیدار ہے۔\",\n",
        "        \"کیا آپ میرے ساتھ آ سکتے ہیں؟\",\n",
        "        \"مجھے کچھ سودا سلف خریدنے کی ضرورت ہے۔\",\n",
        "        \"وہ اپنی دوست سے بات کر رہی ہے۔\",\n",
        "        \"بلی کرسی پر بیٹھی ہے۔\",\n",
        "        \"میں ایک نئی زبان سیکھ رہا ہوں۔\",\n",
        "        \"وہ ایک خط لکھ رہا ہے۔\",\n",
        "        \"میں اب سونے جا رہا ہوں۔\",\n",
        "        \"براہ کرم لائٹس بند کر دیں۔\",\n",
        "        \"مجھے اپنا ہوم ورک مکمل کرنا ہے۔\",\n",
        "        \"ہم پارک جا رہے ہیں۔\",\n",
        "        \"میں ایک منصوبے پر کام کر رہا ہوں۔\",\n",
        "        \"بچے باہر کھیل رہے ہیں۔\",\n",
        "        \"وہ کیک بنا رہی ہے۔\",\n",
        "        \"میں اپنی چابیاں تلاش کر رہا ہوں۔\",\n",
        "        \"ٹرین جلد ہی پہنچ رہی ہے۔\",\n",
        "        \"میٹنگ منسوخ کر دی گئی ہے۔\",\n",
        "        \"کیا آپ مجھے کچھ پیسے دے سکتے ہیں؟\",\n",
        "        \"میں ایک پارٹی کی منصوبہ بندی کر رہا ہوں۔\",\n",
        "        \"کتا زور سے بھونک رہا ہے۔\",\n",
        "        \"وہ عینک پہنے ہوئے ہے۔\",\n",
        "        \"میں گھر کی صفائی کر رہا ہوں۔\",\n",
        "        \"خبریں بہت اہم ہیں۔\",\n",
        "        \"ہم سمندر کنارے جا رہے ہیں۔\",\n",
        "        \"مجھے تھوڑا سا بیمار محسوس ہو رہا ہے۔\",\n",
        "        \"امتحان مشکل تھا۔\",\n",
        "        \"میں ایک دوست سے ملنے جا رہا ہوں۔\",\n",
        "        \"سڑک بہت مصروف ہے۔\",\n",
        "        \"میں نے اپنا کام مکمل کر لیا ہے۔\",\n",
        "        \"میں ڈاکٹر کے پاس جا رہا ہوں۔\",\n",
        "        \"جہاز اڑان بھر رہا ہے۔\",\n",
        "        \"میں ای میل بھیج رہا ہوں۔\",\n",
        "        \"وہ گاڑی چلا رہا ہے۔\",\n",
        "        \"ہم ایک نئے گھر میں منتقل ہو رہے ہیں۔\",\n",
        "        \"ریستوران بہت بھیڑ بھرا ہے۔\",\n",
        "        \"میں گٹار سیکھ رہا ہوں۔\",\n",
        "        \"میں لائبریری جا رہا ہوں۔\",\n",
        "        \"وہ سوئمنگ پول میں تیر رہا ہے۔\"\n",
        "    ]\n",
        "}\n",
        "\n",
        "df = pd.DataFrame(data)\n",
        "\n",
        "# Save to CSV\n",
        "df.to_csv('english_urdu_corpus_100.csv', index=False)\n"
      ],
      "metadata": {
        "id": "WwJTzBp7vfyy"
      },
      "execution_count": 297,
      "outputs": []
    },
    {
      "cell_type": "code",
      "source": [
        "df.head()"
      ],
      "metadata": {
        "colab": {
          "base_uri": "https://localhost:8080/",
          "height": 206
        },
        "id": "RRY2ZIJ67cwV",
        "outputId": "e0a0f058-ecb8-44ec-a190-06c9d2a2d6bd"
      },
      "execution_count": 298,
      "outputs": [
        {
          "output_type": "execute_result",
          "data": {
            "text/plain": [
              "                  english                   urdu\n",
              "0     Hello, how are you?     ہیلو، آپ کیسے ہیں؟\n",
              "1      What is your name?      آپ کا نام کیا ہے؟\n",
              "2          I am learning.      میں سیکھ رہا ہوں۔\n",
              "3      Where do you live?      آپ کہاں رہتے ہیں؟\n",
              "4  It is a beautiful day.  یہ ایک خوبصورت دن ہے۔"
            ],
            "text/html": [
              "\n",
              "  <div id=\"df-53ecb062-b3d1-4b86-b2f4-aefc48ca02b2\" class=\"colab-df-container\">\n",
              "    <div>\n",
              "<style scoped>\n",
              "    .dataframe tbody tr th:only-of-type {\n",
              "        vertical-align: middle;\n",
              "    }\n",
              "\n",
              "    .dataframe tbody tr th {\n",
              "        vertical-align: top;\n",
              "    }\n",
              "\n",
              "    .dataframe thead th {\n",
              "        text-align: right;\n",
              "    }\n",
              "</style>\n",
              "<table border=\"1\" class=\"dataframe\">\n",
              "  <thead>\n",
              "    <tr style=\"text-align: right;\">\n",
              "      <th></th>\n",
              "      <th>english</th>\n",
              "      <th>urdu</th>\n",
              "    </tr>\n",
              "  </thead>\n",
              "  <tbody>\n",
              "    <tr>\n",
              "      <th>0</th>\n",
              "      <td>Hello, how are you?</td>\n",
              "      <td>ہیلو، آپ کیسے ہیں؟</td>\n",
              "    </tr>\n",
              "    <tr>\n",
              "      <th>1</th>\n",
              "      <td>What is your name?</td>\n",
              "      <td>آپ کا نام کیا ہے؟</td>\n",
              "    </tr>\n",
              "    <tr>\n",
              "      <th>2</th>\n",
              "      <td>I am learning.</td>\n",
              "      <td>میں سیکھ رہا ہوں۔</td>\n",
              "    </tr>\n",
              "    <tr>\n",
              "      <th>3</th>\n",
              "      <td>Where do you live?</td>\n",
              "      <td>آپ کہاں رہتے ہیں؟</td>\n",
              "    </tr>\n",
              "    <tr>\n",
              "      <th>4</th>\n",
              "      <td>It is a beautiful day.</td>\n",
              "      <td>یہ ایک خوبصورت دن ہے۔</td>\n",
              "    </tr>\n",
              "  </tbody>\n",
              "</table>\n",
              "</div>\n",
              "    <div class=\"colab-df-buttons\">\n",
              "\n",
              "  <div class=\"colab-df-container\">\n",
              "    <button class=\"colab-df-convert\" onclick=\"convertToInteractive('df-53ecb062-b3d1-4b86-b2f4-aefc48ca02b2')\"\n",
              "            title=\"Convert this dataframe to an interactive table.\"\n",
              "            style=\"display:none;\">\n",
              "\n",
              "  <svg xmlns=\"http://www.w3.org/2000/svg\" height=\"24px\" viewBox=\"0 -960 960 960\">\n",
              "    <path d=\"M120-120v-720h720v720H120Zm60-500h600v-160H180v160Zm220 220h160v-160H400v160Zm0 220h160v-160H400v160ZM180-400h160v-160H180v160Zm440 0h160v-160H620v160ZM180-180h160v-160H180v160Zm440 0h160v-160H620v160Z\"/>\n",
              "  </svg>\n",
              "    </button>\n",
              "\n",
              "  <style>\n",
              "    .colab-df-container {\n",
              "      display:flex;\n",
              "      gap: 12px;\n",
              "    }\n",
              "\n",
              "    .colab-df-convert {\n",
              "      background-color: #E8F0FE;\n",
              "      border: none;\n",
              "      border-radius: 50%;\n",
              "      cursor: pointer;\n",
              "      display: none;\n",
              "      fill: #1967D2;\n",
              "      height: 32px;\n",
              "      padding: 0 0 0 0;\n",
              "      width: 32px;\n",
              "    }\n",
              "\n",
              "    .colab-df-convert:hover {\n",
              "      background-color: #E2EBFA;\n",
              "      box-shadow: 0px 1px 2px rgba(60, 64, 67, 0.3), 0px 1px 3px 1px rgba(60, 64, 67, 0.15);\n",
              "      fill: #174EA6;\n",
              "    }\n",
              "\n",
              "    .colab-df-buttons div {\n",
              "      margin-bottom: 4px;\n",
              "    }\n",
              "\n",
              "    [theme=dark] .colab-df-convert {\n",
              "      background-color: #3B4455;\n",
              "      fill: #D2E3FC;\n",
              "    }\n",
              "\n",
              "    [theme=dark] .colab-df-convert:hover {\n",
              "      background-color: #434B5C;\n",
              "      box-shadow: 0px 1px 3px 1px rgba(0, 0, 0, 0.15);\n",
              "      filter: drop-shadow(0px 1px 2px rgba(0, 0, 0, 0.3));\n",
              "      fill: #FFFFFF;\n",
              "    }\n",
              "  </style>\n",
              "\n",
              "    <script>\n",
              "      const buttonEl =\n",
              "        document.querySelector('#df-53ecb062-b3d1-4b86-b2f4-aefc48ca02b2 button.colab-df-convert');\n",
              "      buttonEl.style.display =\n",
              "        google.colab.kernel.accessAllowed ? 'block' : 'none';\n",
              "\n",
              "      async function convertToInteractive(key) {\n",
              "        const element = document.querySelector('#df-53ecb062-b3d1-4b86-b2f4-aefc48ca02b2');\n",
              "        const dataTable =\n",
              "          await google.colab.kernel.invokeFunction('convertToInteractive',\n",
              "                                                    [key], {});\n",
              "        if (!dataTable) return;\n",
              "\n",
              "        const docLinkHtml = 'Like what you see? Visit the ' +\n",
              "          '<a target=\"_blank\" href=https://colab.research.google.com/notebooks/data_table.ipynb>data table notebook</a>'\n",
              "          + ' to learn more about interactive tables.';\n",
              "        element.innerHTML = '';\n",
              "        dataTable['output_type'] = 'display_data';\n",
              "        await google.colab.output.renderOutput(dataTable, element);\n",
              "        const docLink = document.createElement('div');\n",
              "        docLink.innerHTML = docLinkHtml;\n",
              "        element.appendChild(docLink);\n",
              "      }\n",
              "    </script>\n",
              "  </div>\n",
              "\n",
              "\n",
              "<div id=\"df-4d812efe-2ec1-4c82-9a92-111845ce70e4\">\n",
              "  <button class=\"colab-df-quickchart\" onclick=\"quickchart('df-4d812efe-2ec1-4c82-9a92-111845ce70e4')\"\n",
              "            title=\"Suggest charts\"\n",
              "            style=\"display:none;\">\n",
              "\n",
              "<svg xmlns=\"http://www.w3.org/2000/svg\" height=\"24px\"viewBox=\"0 0 24 24\"\n",
              "     width=\"24px\">\n",
              "    <g>\n",
              "        <path d=\"M19 3H5c-1.1 0-2 .9-2 2v14c0 1.1.9 2 2 2h14c1.1 0 2-.9 2-2V5c0-1.1-.9-2-2-2zM9 17H7v-7h2v7zm4 0h-2V7h2v10zm4 0h-2v-4h2v4z\"/>\n",
              "    </g>\n",
              "</svg>\n",
              "  </button>\n",
              "\n",
              "<style>\n",
              "  .colab-df-quickchart {\n",
              "      --bg-color: #E8F0FE;\n",
              "      --fill-color: #1967D2;\n",
              "      --hover-bg-color: #E2EBFA;\n",
              "      --hover-fill-color: #174EA6;\n",
              "      --disabled-fill-color: #AAA;\n",
              "      --disabled-bg-color: #DDD;\n",
              "  }\n",
              "\n",
              "  [theme=dark] .colab-df-quickchart {\n",
              "      --bg-color: #3B4455;\n",
              "      --fill-color: #D2E3FC;\n",
              "      --hover-bg-color: #434B5C;\n",
              "      --hover-fill-color: #FFFFFF;\n",
              "      --disabled-bg-color: #3B4455;\n",
              "      --disabled-fill-color: #666;\n",
              "  }\n",
              "\n",
              "  .colab-df-quickchart {\n",
              "    background-color: var(--bg-color);\n",
              "    border: none;\n",
              "    border-radius: 50%;\n",
              "    cursor: pointer;\n",
              "    display: none;\n",
              "    fill: var(--fill-color);\n",
              "    height: 32px;\n",
              "    padding: 0;\n",
              "    width: 32px;\n",
              "  }\n",
              "\n",
              "  .colab-df-quickchart:hover {\n",
              "    background-color: var(--hover-bg-color);\n",
              "    box-shadow: 0 1px 2px rgba(60, 64, 67, 0.3), 0 1px 3px 1px rgba(60, 64, 67, 0.15);\n",
              "    fill: var(--button-hover-fill-color);\n",
              "  }\n",
              "\n",
              "  .colab-df-quickchart-complete:disabled,\n",
              "  .colab-df-quickchart-complete:disabled:hover {\n",
              "    background-color: var(--disabled-bg-color);\n",
              "    fill: var(--disabled-fill-color);\n",
              "    box-shadow: none;\n",
              "  }\n",
              "\n",
              "  .colab-df-spinner {\n",
              "    border: 2px solid var(--fill-color);\n",
              "    border-color: transparent;\n",
              "    border-bottom-color: var(--fill-color);\n",
              "    animation:\n",
              "      spin 1s steps(1) infinite;\n",
              "  }\n",
              "\n",
              "  @keyframes spin {\n",
              "    0% {\n",
              "      border-color: transparent;\n",
              "      border-bottom-color: var(--fill-color);\n",
              "      border-left-color: var(--fill-color);\n",
              "    }\n",
              "    20% {\n",
              "      border-color: transparent;\n",
              "      border-left-color: var(--fill-color);\n",
              "      border-top-color: var(--fill-color);\n",
              "    }\n",
              "    30% {\n",
              "      border-color: transparent;\n",
              "      border-left-color: var(--fill-color);\n",
              "      border-top-color: var(--fill-color);\n",
              "      border-right-color: var(--fill-color);\n",
              "    }\n",
              "    40% {\n",
              "      border-color: transparent;\n",
              "      border-right-color: var(--fill-color);\n",
              "      border-top-color: var(--fill-color);\n",
              "    }\n",
              "    60% {\n",
              "      border-color: transparent;\n",
              "      border-right-color: var(--fill-color);\n",
              "    }\n",
              "    80% {\n",
              "      border-color: transparent;\n",
              "      border-right-color: var(--fill-color);\n",
              "      border-bottom-color: var(--fill-color);\n",
              "    }\n",
              "    90% {\n",
              "      border-color: transparent;\n",
              "      border-bottom-color: var(--fill-color);\n",
              "    }\n",
              "  }\n",
              "</style>\n",
              "\n",
              "  <script>\n",
              "    async function quickchart(key) {\n",
              "      const quickchartButtonEl =\n",
              "        document.querySelector('#' + key + ' button');\n",
              "      quickchartButtonEl.disabled = true;  // To prevent multiple clicks.\n",
              "      quickchartButtonEl.classList.add('colab-df-spinner');\n",
              "      try {\n",
              "        const charts = await google.colab.kernel.invokeFunction(\n",
              "            'suggestCharts', [key], {});\n",
              "      } catch (error) {\n",
              "        console.error('Error during call to suggestCharts:', error);\n",
              "      }\n",
              "      quickchartButtonEl.classList.remove('colab-df-spinner');\n",
              "      quickchartButtonEl.classList.add('colab-df-quickchart-complete');\n",
              "    }\n",
              "    (() => {\n",
              "      let quickchartButtonEl =\n",
              "        document.querySelector('#df-4d812efe-2ec1-4c82-9a92-111845ce70e4 button');\n",
              "      quickchartButtonEl.style.display =\n",
              "        google.colab.kernel.accessAllowed ? 'block' : 'none';\n",
              "    })();\n",
              "  </script>\n",
              "</div>\n",
              "\n",
              "    </div>\n",
              "  </div>\n"
            ],
            "application/vnd.google.colaboratory.intrinsic+json": {
              "type": "dataframe",
              "variable_name": "df",
              "summary": "{\n  \"name\": \"df\",\n  \"rows\": 105,\n  \"fields\": [\n    {\n      \"column\": \"english\",\n      \"properties\": {\n        \"dtype\": \"string\",\n        \"num_unique_values\": 105,\n        \"samples\": [\n          \"I am very tired today.\",\n          \"The sky is clear today.\",\n          \"I am cooking dinner.\"\n        ],\n        \"semantic_type\": \"\",\n        \"description\": \"\"\n      }\n    },\n    {\n      \"column\": \"urdu\",\n      \"properties\": {\n        \"dtype\": \"string\",\n        \"num_unique_values\": 105,\n        \"samples\": [\n          \"\\u0622\\u062c \\u0645\\u06cc\\u06ba \\u0628\\u06c1\\u062a \\u062a\\u06be\\u06a9\\u0627 \\u06c1\\u0648\\u0627 \\u06c1\\u0648\\u06ba\\u06d4\",\n          \"\\u0622\\u062c \\u0622\\u0633\\u0645\\u0627\\u0646 \\u0635\\u0627\\u0641 \\u06c1\\u06d2\\u06d4\",\n          \"\\u0645\\u06cc\\u06ba \\u0631\\u0627\\u062a \\u06a9\\u0627 \\u06a9\\u06be\\u0627\\u0646\\u0627 \\u0628\\u0646\\u0627 \\u0631\\u06c1\\u0627 \\u06c1\\u0648\\u06ba\\u06d4\"\n        ],\n        \"semantic_type\": \"\",\n        \"description\": \"\"\n      }\n    }\n  ]\n}"
            }
          },
          "metadata": {},
          "execution_count": 298
        }
      ]
    },
    {
      "cell_type": "code",
      "source": [
        "df['english']=df['english'].apply(Normalize_Input)\n",
        "df['urdu']=df['urdu'].apply(Normalize_label)"
      ],
      "metadata": {
        "id": "n23fAyf2gLrW"
      },
      "execution_count": 299,
      "outputs": []
    },
    {
      "cell_type": "code",
      "source": [
        "train,val,test=np.split(df.sample(frac=1),[int(0.8*len(df)),int(0.9*len(df))])"
      ],
      "metadata": {
        "id": "X8rB5_oi7fqf"
      },
      "execution_count": 300,
      "outputs": []
    },
    {
      "cell_type": "code",
      "source": [
        "vocab_size=10000\n",
        "embedding_dim=50\n",
        "max_length=200\n",
        "trunc_type='post'\n",
        "oov_tok='<OOV>'\n",
        "train_inputs=train['english'].values\n",
        "val_inputs=val['english'].values\n",
        "test_inputs=test['english'].values\n",
        "\n",
        "\n",
        "val_inputs_str=[str(x) for x in val_inputs]\n",
        "test_inputs_str=[str(x) for x in test_inputs]\n",
        "train_inputs_str = [str(x) for x in train_inputs]\n",
        "\n",
        "\n",
        "#tokenization of input (english sentences)\n",
        "tokenizer=Tokenizer(num_words=vocab_size,oov_token=oov_tok)\n",
        "tokenizer.fit_on_texts(train_inputs_str)\n",
        "\n",
        "#vectorization of input\n",
        "\n",
        "train_sequences = tokenizer.texts_to_sequences(train_inputs_str)\n",
        "val_sequences = tokenizer.texts_to_sequences(val_inputs_str)\n",
        "test_sequences = tokenizer.texts_to_sequences(test_inputs_str)\n",
        "\n",
        "#Pad the sequences to ensure equal length\n",
        "train_padded = pad_sequences(train_sequences, maxlen=max_length, truncating=trunc_type)\n",
        "val_padded = pad_sequences(val_sequences, maxlen=max_length, truncating=trunc_type)\n",
        "test_padded = pad_sequences(test_sequences, maxlen=max_length, truncating=trunc_type)\n"
      ],
      "metadata": {
        "id": "NS8CYuH97pR3"
      },
      "execution_count": 301,
      "outputs": []
    },
    {
      "cell_type": "code",
      "source": [
        "train_labels=train['urdu'].values\n",
        "train_labels = [str(x) for x in train_labels]\n",
        "# tokenizer=Tokenizer(num_words=vocab_size,oov_token=oov_tok)\n",
        "tokenizer.fit_on_texts(train_labels)\n",
        "train_labels_sequences = tokenizer.texts_to_sequences(train_labels)\n",
        "padded_train_labels = pad_sequences(train_labels_sequences, maxlen=max_length, truncating=trunc_type)"
      ],
      "metadata": {
        "id": "mIHfV0-777tR"
      },
      "execution_count": 302,
      "outputs": []
    },
    {
      "cell_type": "code",
      "source": [
        "val_labels=val['urdu'].values\n",
        "val_labels = [str(x) for x in val_labels]\n",
        "# tokenizer=Tokenizer(num_words=vocab_size,oov_token=oov_tok)\n",
        "tokenizer.fit_on_texts(val_labels)\n",
        "val_labels_sequences = tokenizer.texts_to_sequences(val_labels)\n",
        "padded_val_labels = pad_sequences(val_labels_sequences, maxlen=max_length, truncating=trunc_type)"
      ],
      "metadata": {
        "id": "6Uc3HgOj8IjG"
      },
      "execution_count": 303,
      "outputs": []
    },
    {
      "cell_type": "code",
      "source": [
        "test_labels=test['urdu'].values\n",
        "test_labels = [str(x) for x in test_labels]\n",
        "# tokenizer=Tokenizer(num_words=vocab_size,oov_token=oov_tok)\n",
        "tokenizer.fit_on_texts(test_labels)\n",
        "test_labels_sequences = tokenizer.texts_to_sequences(test_labels)\n",
        "padded_test_labels = pad_sequences(test_labels_sequences, maxlen=max_length, truncating=trunc_type)"
      ],
      "metadata": {
        "id": "1ywd3Vjx8OVs"
      },
      "execution_count": 304,
      "outputs": []
    },
    {
      "cell_type": "code",
      "source": [
        "model = tf.keras.Sequential([\n",
        "    tf.keras.layers.Embedding(vocab_size, embedding_dim, input_length=max_length),\n",
        "\n",
        "\n",
        "\n",
        "    tf.keras.layers.Dense(128, activation='tanh'),\n",
        "\n",
        "    # First LSTM layer\n",
        "    tf.keras.layers.LSTM(64, return_sequences=True),\n",
        "\n",
        "    # Second LSTM layer\n",
        "    tf.keras.layers.LSTM(128, return_sequences=True),\n",
        "\n",
        "    tf.keras.layers.Dense(64, activation='relu'),\n",
        "\n",
        "    tf.keras.layers.Dropout(0.3),\n",
        "\n",
        "    tf.keras.layers.Dense(64, activation='tanh', kernel_regularizer=tf.keras.regularizers.l2(0.01)),\n",
        "\n",
        "    # Output layer for vocabulary size\n",
        "    tf.keras.layers.Dense(vocab_size, activation='softmax')\n",
        "])\n",
        "\n",
        "# Compile the model\n",
        "model.compile(loss='sparse_categorical_crossentropy', optimizer='adam', metrics=['accuracy'])\n",
        "\n",
        "# Print model summary\n",
        "model.summary()"
      ],
      "metadata": {
        "colab": {
          "base_uri": "https://localhost:8080/",
          "height": 408
        },
        "id": "c8dEhS9KgmJp",
        "outputId": "e16992f5-6348-46e3-fbcf-4caa013d97bb"
      },
      "execution_count": 305,
      "outputs": [
        {
          "output_type": "display_data",
          "data": {
            "text/plain": [
              "\u001b[1mModel: \"sequential_17\"\u001b[0m\n"
            ],
            "text/html": [
              "<pre style=\"white-space:pre;overflow-x:auto;line-height:normal;font-family:Menlo,'DejaVu Sans Mono',consolas,'Courier New',monospace\"><span style=\"font-weight: bold\">Model: \"sequential_17\"</span>\n",
              "</pre>\n"
            ]
          },
          "metadata": {}
        },
        {
          "output_type": "display_data",
          "data": {
            "text/plain": [
              "┏━━━━━━━━━━━━━━━━━━━━━━━━━━━━━━━━━━━━━━┳━━━━━━━━━━━━━━━━━━━━━━━━━━━━━┳━━━━━━━━━━━━━━━━━┓\n",
              "┃\u001b[1m \u001b[0m\u001b[1mLayer (type)                        \u001b[0m\u001b[1m \u001b[0m┃\u001b[1m \u001b[0m\u001b[1mOutput Shape               \u001b[0m\u001b[1m \u001b[0m┃\u001b[1m \u001b[0m\u001b[1m        Param #\u001b[0m\u001b[1m \u001b[0m┃\n",
              "┡━━━━━━━━━━━━━━━━━━━━━━━━━━━━━━━━━━━━━━╇━━━━━━━━━━━━━━━━━━━━━━━━━━━━━╇━━━━━━━━━━━━━━━━━┩\n",
              "│ embedding_17 (\u001b[38;5;33mEmbedding\u001b[0m)             │ ?                           │     \u001b[38;5;34m0\u001b[0m (unbuilt) │\n",
              "├──────────────────────────────────────┼─────────────────────────────┼─────────────────┤\n",
              "│ dense_56 (\u001b[38;5;33mDense\u001b[0m)                     │ ?                           │     \u001b[38;5;34m0\u001b[0m (unbuilt) │\n",
              "├──────────────────────────────────────┼─────────────────────────────┼─────────────────┤\n",
              "│ lstm_14 (\u001b[38;5;33mLSTM\u001b[0m)                       │ ?                           │     \u001b[38;5;34m0\u001b[0m (unbuilt) │\n",
              "├──────────────────────────────────────┼─────────────────────────────┼─────────────────┤\n",
              "│ lstm_15 (\u001b[38;5;33mLSTM\u001b[0m)                       │ ?                           │     \u001b[38;5;34m0\u001b[0m (unbuilt) │\n",
              "├──────────────────────────────────────┼─────────────────────────────┼─────────────────┤\n",
              "│ dense_57 (\u001b[38;5;33mDense\u001b[0m)                     │ ?                           │     \u001b[38;5;34m0\u001b[0m (unbuilt) │\n",
              "├──────────────────────────────────────┼─────────────────────────────┼─────────────────┤\n",
              "│ dropout_15 (\u001b[38;5;33mDropout\u001b[0m)                 │ ?                           │     \u001b[38;5;34m0\u001b[0m (unbuilt) │\n",
              "├──────────────────────────────────────┼─────────────────────────────┼─────────────────┤\n",
              "│ dense_58 (\u001b[38;5;33mDense\u001b[0m)                     │ ?                           │     \u001b[38;5;34m0\u001b[0m (unbuilt) │\n",
              "├──────────────────────────────────────┼─────────────────────────────┼─────────────────┤\n",
              "│ dense_59 (\u001b[38;5;33mDense\u001b[0m)                     │ ?                           │     \u001b[38;5;34m0\u001b[0m (unbuilt) │\n",
              "└──────────────────────────────────────┴─────────────────────────────┴─────────────────┘\n"
            ],
            "text/html": [
              "<pre style=\"white-space:pre;overflow-x:auto;line-height:normal;font-family:Menlo,'DejaVu Sans Mono',consolas,'Courier New',monospace\">┏━━━━━━━━━━━━━━━━━━━━━━━━━━━━━━━━━━━━━━┳━━━━━━━━━━━━━━━━━━━━━━━━━━━━━┳━━━━━━━━━━━━━━━━━┓\n",
              "┃<span style=\"font-weight: bold\"> Layer (type)                         </span>┃<span style=\"font-weight: bold\"> Output Shape                </span>┃<span style=\"font-weight: bold\">         Param # </span>┃\n",
              "┡━━━━━━━━━━━━━━━━━━━━━━━━━━━━━━━━━━━━━━╇━━━━━━━━━━━━━━━━━━━━━━━━━━━━━╇━━━━━━━━━━━━━━━━━┩\n",
              "│ embedding_17 (<span style=\"color: #0087ff; text-decoration-color: #0087ff\">Embedding</span>)             │ ?                           │     <span style=\"color: #00af00; text-decoration-color: #00af00\">0</span> (unbuilt) │\n",
              "├──────────────────────────────────────┼─────────────────────────────┼─────────────────┤\n",
              "│ dense_56 (<span style=\"color: #0087ff; text-decoration-color: #0087ff\">Dense</span>)                     │ ?                           │     <span style=\"color: #00af00; text-decoration-color: #00af00\">0</span> (unbuilt) │\n",
              "├──────────────────────────────────────┼─────────────────────────────┼─────────────────┤\n",
              "│ lstm_14 (<span style=\"color: #0087ff; text-decoration-color: #0087ff\">LSTM</span>)                       │ ?                           │     <span style=\"color: #00af00; text-decoration-color: #00af00\">0</span> (unbuilt) │\n",
              "├──────────────────────────────────────┼─────────────────────────────┼─────────────────┤\n",
              "│ lstm_15 (<span style=\"color: #0087ff; text-decoration-color: #0087ff\">LSTM</span>)                       │ ?                           │     <span style=\"color: #00af00; text-decoration-color: #00af00\">0</span> (unbuilt) │\n",
              "├──────────────────────────────────────┼─────────────────────────────┼─────────────────┤\n",
              "│ dense_57 (<span style=\"color: #0087ff; text-decoration-color: #0087ff\">Dense</span>)                     │ ?                           │     <span style=\"color: #00af00; text-decoration-color: #00af00\">0</span> (unbuilt) │\n",
              "├──────────────────────────────────────┼─────────────────────────────┼─────────────────┤\n",
              "│ dropout_15 (<span style=\"color: #0087ff; text-decoration-color: #0087ff\">Dropout</span>)                 │ ?                           │     <span style=\"color: #00af00; text-decoration-color: #00af00\">0</span> (unbuilt) │\n",
              "├──────────────────────────────────────┼─────────────────────────────┼─────────────────┤\n",
              "│ dense_58 (<span style=\"color: #0087ff; text-decoration-color: #0087ff\">Dense</span>)                     │ ?                           │     <span style=\"color: #00af00; text-decoration-color: #00af00\">0</span> (unbuilt) │\n",
              "├──────────────────────────────────────┼─────────────────────────────┼─────────────────┤\n",
              "│ dense_59 (<span style=\"color: #0087ff; text-decoration-color: #0087ff\">Dense</span>)                     │ ?                           │     <span style=\"color: #00af00; text-decoration-color: #00af00\">0</span> (unbuilt) │\n",
              "└──────────────────────────────────────┴─────────────────────────────┴─────────────────┘\n",
              "</pre>\n"
            ]
          },
          "metadata": {}
        },
        {
          "output_type": "display_data",
          "data": {
            "text/plain": [
              "\u001b[1m Total params: \u001b[0m\u001b[38;5;34m0\u001b[0m (0.00 B)\n"
            ],
            "text/html": [
              "<pre style=\"white-space:pre;overflow-x:auto;line-height:normal;font-family:Menlo,'DejaVu Sans Mono',consolas,'Courier New',monospace\"><span style=\"font-weight: bold\"> Total params: </span><span style=\"color: #00af00; text-decoration-color: #00af00\">0</span> (0.00 B)\n",
              "</pre>\n"
            ]
          },
          "metadata": {}
        },
        {
          "output_type": "display_data",
          "data": {
            "text/plain": [
              "\u001b[1m Trainable params: \u001b[0m\u001b[38;5;34m0\u001b[0m (0.00 B)\n"
            ],
            "text/html": [
              "<pre style=\"white-space:pre;overflow-x:auto;line-height:normal;font-family:Menlo,'DejaVu Sans Mono',consolas,'Courier New',monospace\"><span style=\"font-weight: bold\"> Trainable params: </span><span style=\"color: #00af00; text-decoration-color: #00af00\">0</span> (0.00 B)\n",
              "</pre>\n"
            ]
          },
          "metadata": {}
        },
        {
          "output_type": "display_data",
          "data": {
            "text/plain": [
              "\u001b[1m Non-trainable params: \u001b[0m\u001b[38;5;34m0\u001b[0m (0.00 B)\n"
            ],
            "text/html": [
              "<pre style=\"white-space:pre;overflow-x:auto;line-height:normal;font-family:Menlo,'DejaVu Sans Mono',consolas,'Courier New',monospace\"><span style=\"font-weight: bold\"> Non-trainable params: </span><span style=\"color: #00af00; text-decoration-color: #00af00\">0</span> (0.00 B)\n",
              "</pre>\n"
            ]
          },
          "metadata": {}
        }
      ]
    },
    {
      "cell_type": "code",
      "source": [
        "from tensorflow.keras.callbacks import EarlyStopping\n",
        "\n",
        "early_stopping = EarlyStopping(monitor='val_loss', patience=3, restore_best_weights=True)\n",
        "\n",
        "history = model.fit(\n",
        "    train_padded,\n",
        "    np.expand_dims(padded_train_labels, -1),\n",
        "    batch_size=32,\n",
        "    epochs=100,\n",
        "    validation_data=(val_padded, padded_val_labels),\n",
        "    callbacks=[early_stopping]\n",
        ")"
      ],
      "metadata": {
        "colab": {
          "base_uri": "https://localhost:8080/"
        },
        "id": "zM1n62mZgte5",
        "outputId": "01f29686-9168-4405-d279-6001ee565670"
      },
      "execution_count": 307,
      "outputs": [
        {
          "output_type": "stream",
          "name": "stdout",
          "text": [
            "Epoch 1/100\n",
            "\u001b[1m3/3\u001b[0m \u001b[32m━━━━━━━━━━━━━━━━━━━━\u001b[0m\u001b[37m\u001b[0m \u001b[1m7s\u001b[0m 2s/step - accuracy: 0.9646 - loss: 0.8391 - val_accuracy: 0.9695 - val_loss: 0.7896\n",
            "Epoch 2/100\n",
            "\u001b[1m3/3\u001b[0m \u001b[32m━━━━━━━━━━━━━━━━━━━━\u001b[0m\u001b[37m\u001b[0m \u001b[1m11s\u001b[0m 3s/step - accuracy: 0.9643 - loss: 0.7977 - val_accuracy: 0.9695 - val_loss: 0.7541\n",
            "Epoch 3/100\n",
            "\u001b[1m3/3\u001b[0m \u001b[32m━━━━━━━━━━━━━━━━━━━━\u001b[0m\u001b[37m\u001b[0m \u001b[1m8s\u001b[0m 2s/step - accuracy: 0.9648 - loss: 0.7582 - val_accuracy: 0.9695 - val_loss: 0.7252\n",
            "Epoch 4/100\n",
            "\u001b[1m3/3\u001b[0m \u001b[32m━━━━━━━━━━━━━━━━━━━━\u001b[0m\u001b[37m\u001b[0m \u001b[1m11s\u001b[0m 2s/step - accuracy: 0.9645 - loss: 0.7330 - val_accuracy: 0.9695 - val_loss: 0.7013\n",
            "Epoch 5/100\n",
            "\u001b[1m3/3\u001b[0m \u001b[32m━━━━━━━━━━━━━━━━━━━━\u001b[0m\u001b[37m\u001b[0m \u001b[1m12s\u001b[0m 3s/step - accuracy: 0.9637 - loss: 0.7138 - val_accuracy: 0.9695 - val_loss: 0.6810\n",
            "Epoch 6/100\n",
            "\u001b[1m3/3\u001b[0m \u001b[32m━━━━━━━━━━━━━━━━━━━━\u001b[0m\u001b[37m\u001b[0m \u001b[1m9s\u001b[0m 2s/step - accuracy: 0.9650 - loss: 0.6827 - val_accuracy: 0.9695 - val_loss: 0.6634\n",
            "Epoch 7/100\n",
            "\u001b[1m3/3\u001b[0m \u001b[32m━━━━━━━━━━━━━━━━━━━━\u001b[0m\u001b[37m\u001b[0m \u001b[1m9s\u001b[0m 2s/step - accuracy: 0.9647 - loss: 0.6671 - val_accuracy: 0.9695 - val_loss: 0.6480\n",
            "Epoch 8/100\n",
            "\u001b[1m3/3\u001b[0m \u001b[32m━━━━━━━━━━━━━━━━━━━━\u001b[0m\u001b[37m\u001b[0m \u001b[1m12s\u001b[0m 2s/step - accuracy: 0.9647 - loss: 0.6500 - val_accuracy: 0.9695 - val_loss: 0.6342\n",
            "Epoch 9/100\n",
            "\u001b[1m3/3\u001b[0m \u001b[32m━━━━━━━━━━━━━━━━━━━━\u001b[0m\u001b[37m\u001b[0m \u001b[1m10s\u001b[0m 3s/step - accuracy: 0.9649 - loss: 0.6334 - val_accuracy: 0.9695 - val_loss: 0.6218\n",
            "Epoch 10/100\n",
            "\u001b[1m3/3\u001b[0m \u001b[32m━━━━━━━━━━━━━━━━━━━━\u001b[0m\u001b[37m\u001b[0m \u001b[1m9s\u001b[0m 2s/step - accuracy: 0.9648 - loss: 0.6217 - val_accuracy: 0.9695 - val_loss: 0.6104\n",
            "Epoch 11/100\n",
            "\u001b[1m3/3\u001b[0m \u001b[32m━━━━━━━━━━━━━━━━━━━━\u001b[0m\u001b[37m\u001b[0m \u001b[1m11s\u001b[0m 2s/step - accuracy: 0.9643 - loss: 0.6122 - val_accuracy: 0.9695 - val_loss: 0.6000\n",
            "Epoch 12/100\n",
            "\u001b[1m3/3\u001b[0m \u001b[32m━━━━━━━━━━━━━━━━━━━━\u001b[0m\u001b[37m\u001b[0m \u001b[1m7s\u001b[0m 2s/step - accuracy: 0.9643 - loss: 0.6016 - val_accuracy: 0.9695 - val_loss: 0.5903\n",
            "Epoch 13/100\n",
            "\u001b[1m3/3\u001b[0m \u001b[32m━━━━━━━━━━━━━━━━━━━━\u001b[0m\u001b[37m\u001b[0m \u001b[1m10s\u001b[0m 2s/step - accuracy: 0.9647 - loss: 0.5873 - val_accuracy: 0.9695 - val_loss: 0.5813\n",
            "Epoch 14/100\n",
            "\u001b[1m3/3\u001b[0m \u001b[32m━━━━━━━━━━━━━━━━━━━━\u001b[0m\u001b[37m\u001b[0m \u001b[1m11s\u001b[0m 2s/step - accuracy: 0.9645 - loss: 0.5793 - val_accuracy: 0.9695 - val_loss: 0.5729\n",
            "Epoch 15/100\n",
            "\u001b[1m3/3\u001b[0m \u001b[32m━━━━━━━━━━━━━━━━━━━━\u001b[0m\u001b[37m\u001b[0m \u001b[1m12s\u001b[0m 3s/step - accuracy: 0.9642 - loss: 0.5729 - val_accuracy: 0.9695 - val_loss: 0.5649\n",
            "Epoch 16/100\n",
            "\u001b[1m3/3\u001b[0m \u001b[32m━━━━━━━━━━━━━━━━━━━━\u001b[0m\u001b[37m\u001b[0m \u001b[1m8s\u001b[0m 2s/step - accuracy: 0.9647 - loss: 0.5596 - val_accuracy: 0.9695 - val_loss: 0.5573\n",
            "Epoch 17/100\n",
            "\u001b[1m3/3\u001b[0m \u001b[32m━━━━━━━━━━━━━━━━━━━━\u001b[0m\u001b[37m\u001b[0m \u001b[1m10s\u001b[0m 2s/step - accuracy: 0.9641 - loss: 0.5555 - val_accuracy: 0.9695 - val_loss: 0.5501\n",
            "Epoch 18/100\n",
            "\u001b[1m3/3\u001b[0m \u001b[32m━━━━━━━━━━━━━━━━━━━━\u001b[0m\u001b[37m\u001b[0m \u001b[1m12s\u001b[0m 2s/step - accuracy: 0.9647 - loss: 0.5420 - val_accuracy: 0.9695 - val_loss: 0.5432\n",
            "Epoch 19/100\n",
            "\u001b[1m3/3\u001b[0m \u001b[32m━━━━━━━━━━━━━━━━━━━━\u001b[0m\u001b[37m\u001b[0m \u001b[1m10s\u001b[0m 3s/step - accuracy: 0.9644 - loss: 0.5381 - val_accuracy: 0.9695 - val_loss: 0.5366\n",
            "Epoch 20/100\n",
            "\u001b[1m3/3\u001b[0m \u001b[32m━━━━━━━━━━━━━━━━━━━━\u001b[0m\u001b[37m\u001b[0m \u001b[1m6s\u001b[0m 2s/step - accuracy: 0.9652 - loss: 0.5239 - val_accuracy: 0.9695 - val_loss: 0.5303\n",
            "Epoch 21/100\n",
            "\u001b[1m3/3\u001b[0m \u001b[32m━━━━━━━━━━━━━━━━━━━━\u001b[0m\u001b[37m\u001b[0m \u001b[1m12s\u001b[0m 2s/step - accuracy: 0.9651 - loss: 0.5178 - val_accuracy: 0.9695 - val_loss: 0.5242\n",
            "Epoch 22/100\n",
            "\u001b[1m3/3\u001b[0m \u001b[32m━━━━━━━━━━━━━━━━━━━━\u001b[0m\u001b[37m\u001b[0m \u001b[1m9s\u001b[0m 2s/step - accuracy: 0.9649 - loss: 0.5122 - val_accuracy: 0.9695 - val_loss: 0.5185\n",
            "Epoch 23/100\n",
            "\u001b[1m3/3\u001b[0m \u001b[32m━━━━━━━━━━━━━━━━━━━━\u001b[0m\u001b[37m\u001b[0m \u001b[1m11s\u001b[0m 3s/step - accuracy: 0.9647 - loss: 0.5092 - val_accuracy: 0.9695 - val_loss: 0.5129\n",
            "Epoch 24/100\n",
            "\u001b[1m3/3\u001b[0m \u001b[32m━━━━━━━━━━━━━━━━━━━━\u001b[0m\u001b[37m\u001b[0m \u001b[1m10s\u001b[0m 2s/step - accuracy: 0.9644 - loss: 0.5027 - val_accuracy: 0.9695 - val_loss: 0.5077\n",
            "Epoch 25/100\n",
            "\u001b[1m3/3\u001b[0m \u001b[32m━━━━━━━━━━━━━━━━━━━━\u001b[0m\u001b[37m\u001b[0m \u001b[1m12s\u001b[0m 3s/step - accuracy: 0.9643 - loss: 0.4994 - val_accuracy: 0.9695 - val_loss: 0.5026\n",
            "Epoch 26/100\n",
            "\u001b[1m3/3\u001b[0m \u001b[32m━━━━━━━━━━━━━━━━━━━━\u001b[0m\u001b[37m\u001b[0m \u001b[1m8s\u001b[0m 2s/step - accuracy: 0.9645 - loss: 0.4918 - val_accuracy: 0.9695 - val_loss: 0.4977\n",
            "Epoch 27/100\n",
            "\u001b[1m3/3\u001b[0m \u001b[32m━━━━━━━━━━━━━━━━━━━━\u001b[0m\u001b[37m\u001b[0m \u001b[1m10s\u001b[0m 2s/step - accuracy: 0.9645 - loss: 0.4862 - val_accuracy: 0.9695 - val_loss: 0.4930\n",
            "Epoch 28/100\n",
            "\u001b[1m3/3\u001b[0m \u001b[32m━━━━━━━━━━━━━━━━━━━━\u001b[0m\u001b[37m\u001b[0m \u001b[1m12s\u001b[0m 2s/step - accuracy: 0.9648 - loss: 0.4787 - val_accuracy: 0.9695 - val_loss: 0.4885\n",
            "Epoch 29/100\n",
            "\u001b[1m3/3\u001b[0m \u001b[32m━━━━━━━━━━━━━━━━━━━━\u001b[0m\u001b[37m\u001b[0m \u001b[1m6s\u001b[0m 2s/step - accuracy: 0.9645 - loss: 0.4761 - val_accuracy: 0.9695 - val_loss: 0.4842\n",
            "Epoch 30/100\n",
            "\u001b[1m3/3\u001b[0m \u001b[32m━━━━━━━━━━━━━━━━━━━━\u001b[0m\u001b[37m\u001b[0m \u001b[1m10s\u001b[0m 2s/step - accuracy: 0.9644 - loss: 0.4718 - val_accuracy: 0.9695 - val_loss: 0.4800\n",
            "Epoch 31/100\n",
            "\u001b[1m3/3\u001b[0m \u001b[32m━━━━━━━━━━━━━━━━━━━━\u001b[0m\u001b[37m\u001b[0m \u001b[1m11s\u001b[0m 2s/step - accuracy: 0.9652 - loss: 0.4612 - val_accuracy: 0.9695 - val_loss: 0.4760\n",
            "Epoch 32/100\n",
            "\u001b[1m3/3\u001b[0m \u001b[32m━━━━━━━━━━━━━━━━━━━━\u001b[0m\u001b[37m\u001b[0m \u001b[1m12s\u001b[0m 3s/step - accuracy: 0.9650 - loss: 0.4588 - val_accuracy: 0.9695 - val_loss: 0.4722\n",
            "Epoch 33/100\n",
            "\u001b[1m3/3\u001b[0m \u001b[32m━━━━━━━━━━━━━━━━━━━━\u001b[0m\u001b[37m\u001b[0m \u001b[1m6s\u001b[0m 2s/step - accuracy: 0.9648 - loss: 0.4556 - val_accuracy: 0.9695 - val_loss: 0.4685\n",
            "Epoch 34/100\n",
            "\u001b[1m3/3\u001b[0m \u001b[32m━━━━━━━━━━━━━━━━━━━━\u001b[0m\u001b[37m\u001b[0m \u001b[1m12s\u001b[0m 2s/step - accuracy: 0.9644 - loss: 0.4543 - val_accuracy: 0.9695 - val_loss: 0.4650\n",
            "Epoch 35/100\n",
            "\u001b[1m3/3\u001b[0m \u001b[32m━━━━━━━━━━━━━━━━━━━━\u001b[0m\u001b[37m\u001b[0m \u001b[1m10s\u001b[0m 3s/step - accuracy: 0.9645 - loss: 0.4493 - val_accuracy: 0.9695 - val_loss: 0.4616\n",
            "Epoch 36/100\n",
            "\u001b[1m3/3\u001b[0m \u001b[32m━━━━━━━━━━━━━━━━━━━━\u001b[0m\u001b[37m\u001b[0m \u001b[1m9s\u001b[0m 2s/step - accuracy: 0.9651 - loss: 0.4422 - val_accuracy: 0.9695 - val_loss: 0.4583\n",
            "Epoch 37/100\n",
            "\u001b[1m3/3\u001b[0m \u001b[32m━━━━━━━━━━━━━━━━━━━━\u001b[0m\u001b[37m\u001b[0m \u001b[1m11s\u001b[0m 2s/step - accuracy: 0.9652 - loss: 0.4358 - val_accuracy: 0.9695 - val_loss: 0.4551\n",
            "Epoch 38/100\n",
            "\u001b[1m3/3\u001b[0m \u001b[32m━━━━━━━━━━━━━━━━━━━━\u001b[0m\u001b[37m\u001b[0m \u001b[1m7s\u001b[0m 2s/step - accuracy: 0.9647 - loss: 0.4357 - val_accuracy: 0.9695 - val_loss: 0.4520\n",
            "Epoch 39/100\n",
            "\u001b[1m3/3\u001b[0m \u001b[32m━━━━━━━━━━━━━━━━━━━━\u001b[0m\u001b[37m\u001b[0m \u001b[1m9s\u001b[0m 2s/step - accuracy: 0.9641 - loss: 0.4381 - val_accuracy: 0.9695 - val_loss: 0.4491\n",
            "Epoch 40/100\n",
            "\u001b[1m3/3\u001b[0m \u001b[32m━━━━━━━━━━━━━━━━━━━━\u001b[0m\u001b[37m\u001b[0m \u001b[1m8s\u001b[0m 3s/step - accuracy: 0.9643 - loss: 0.4343 - val_accuracy: 0.9695 - val_loss: 0.4462\n",
            "Epoch 41/100\n",
            "\u001b[1m3/3\u001b[0m \u001b[32m━━━━━━━━━━━━━━━━━━━━\u001b[0m\u001b[37m\u001b[0m \u001b[1m8s\u001b[0m 2s/step - accuracy: 0.9645 - loss: 0.4289 - val_accuracy: 0.9695 - val_loss: 0.4435\n",
            "Epoch 42/100\n",
            "\u001b[1m3/3\u001b[0m \u001b[32m━━━━━━━━━━━━━━━━━━━━\u001b[0m\u001b[37m\u001b[0m \u001b[1m12s\u001b[0m 2s/step - accuracy: 0.9641 - loss: 0.4294 - val_accuracy: 0.9695 - val_loss: 0.4409\n",
            "Epoch 43/100\n",
            "\u001b[1m3/3\u001b[0m \u001b[32m━━━━━━━━━━━━━━━━━━━━\u001b[0m\u001b[37m\u001b[0m \u001b[1m6s\u001b[0m 2s/step - accuracy: 0.9647 - loss: 0.4208 - val_accuracy: 0.9695 - val_loss: 0.4383\n",
            "Epoch 44/100\n",
            "\u001b[1m3/3\u001b[0m \u001b[32m━━━━━━━━━━━━━━━━━━━━\u001b[0m\u001b[37m\u001b[0m \u001b[1m10s\u001b[0m 2s/step - accuracy: 0.9648 - loss: 0.4174 - val_accuracy: 0.9695 - val_loss: 0.4358\n",
            "Epoch 45/100\n",
            "\u001b[1m3/3\u001b[0m \u001b[32m━━━━━━━━━━━━━━━━━━━━\u001b[0m\u001b[37m\u001b[0m \u001b[1m9s\u001b[0m 3s/step - accuracy: 0.9648 - loss: 0.4147 - val_accuracy: 0.9695 - val_loss: 0.4335\n",
            "Epoch 46/100\n",
            "\u001b[1m3/3\u001b[0m \u001b[32m━━━━━━━━━━━━━━━━━━━━\u001b[0m\u001b[37m\u001b[0m \u001b[1m8s\u001b[0m 2s/step - accuracy: 0.9645 - loss: 0.4136 - val_accuracy: 0.9695 - val_loss: 0.4312\n",
            "Epoch 47/100\n",
            "\u001b[1m3/3\u001b[0m \u001b[32m━━━━━━━━━━━━━━━━━━━━\u001b[0m\u001b[37m\u001b[0m \u001b[1m8s\u001b[0m 3s/step - accuracy: 0.9649 - loss: 0.4076 - val_accuracy: 0.9695 - val_loss: 0.4291\n",
            "Epoch 48/100\n",
            "\u001b[1m3/3\u001b[0m \u001b[32m━━━━━━━━━━━━━━━━━━━━\u001b[0m\u001b[37m\u001b[0m \u001b[1m8s\u001b[0m 2s/step - accuracy: 0.9643 - loss: 0.4112 - val_accuracy: 0.9695 - val_loss: 0.4270\n",
            "Epoch 49/100\n",
            "\u001b[1m3/3\u001b[0m \u001b[32m━━━━━━━━━━━━━━━━━━━━\u001b[0m\u001b[37m\u001b[0m \u001b[1m10s\u001b[0m 2s/step - accuracy: 0.9650 - loss: 0.4016 - val_accuracy: 0.9695 - val_loss: 0.4249\n",
            "Epoch 50/100\n",
            "\u001b[1m3/3\u001b[0m \u001b[32m━━━━━━━━━━━━━━━━━━━━\u001b[0m\u001b[37m\u001b[0m \u001b[1m12s\u001b[0m 2s/step - accuracy: 0.9642 - loss: 0.4057 - val_accuracy: 0.9695 - val_loss: 0.4229\n",
            "Epoch 51/100\n",
            "\u001b[1m3/3\u001b[0m \u001b[32m━━━━━━━━━━━━━━━━━━━━\u001b[0m\u001b[37m\u001b[0m \u001b[1m6s\u001b[0m 2s/step - accuracy: 0.9640 - loss: 0.4040 - val_accuracy: 0.9695 - val_loss: 0.4210\n",
            "Epoch 52/100\n",
            "\u001b[1m3/3\u001b[0m \u001b[32m━━━━━━━━━━━━━━━━━━━━\u001b[0m\u001b[37m\u001b[0m \u001b[1m10s\u001b[0m 2s/step - accuracy: 0.9644 - loss: 0.3996 - val_accuracy: 0.9695 - val_loss: 0.4192\n",
            "Epoch 53/100\n",
            "\u001b[1m3/3\u001b[0m \u001b[32m━━━━━━━━━━━━━━━━━━━━\u001b[0m\u001b[37m\u001b[0m \u001b[1m11s\u001b[0m 2s/step - accuracy: 0.9645 - loss: 0.3970 - val_accuracy: 0.9695 - val_loss: 0.4174\n",
            "Epoch 54/100\n",
            "\u001b[1m3/3\u001b[0m \u001b[32m━━━━━━━━━━━━━━━━━━━━\u001b[0m\u001b[37m\u001b[0m \u001b[1m11s\u001b[0m 3s/step - accuracy: 0.9642 - loss: 0.3968 - val_accuracy: 0.9695 - val_loss: 0.4156\n",
            "Epoch 55/100\n",
            "\u001b[1m3/3\u001b[0m \u001b[32m━━━━━━━━━━━━━━━━━━━━\u001b[0m\u001b[37m\u001b[0m \u001b[1m8s\u001b[0m 2s/step - accuracy: 0.9645 - loss: 0.3928 - val_accuracy: 0.9695 - val_loss: 0.4140\n",
            "Epoch 56/100\n",
            "\u001b[1m3/3\u001b[0m \u001b[32m━━━━━━━━━━━━━━━━━━━━\u001b[0m\u001b[37m\u001b[0m \u001b[1m10s\u001b[0m 2s/step - accuracy: 0.9642 - loss: 0.3930 - val_accuracy: 0.9695 - val_loss: 0.4124\n",
            "Epoch 57/100\n",
            "\u001b[1m3/3\u001b[0m \u001b[32m━━━━━━━━━━━━━━━━━━━━\u001b[0m\u001b[37m\u001b[0m \u001b[1m12s\u001b[0m 3s/step - accuracy: 0.9645 - loss: 0.3883 - val_accuracy: 0.9695 - val_loss: 0.4108\n",
            "Epoch 58/100\n",
            "\u001b[1m3/3\u001b[0m \u001b[32m━━━━━━━━━━━━━━━━━━━━\u001b[0m\u001b[37m\u001b[0m \u001b[1m8s\u001b[0m 2s/step - accuracy: 0.9641 - loss: 0.3904 - val_accuracy: 0.9695 - val_loss: 0.4093\n",
            "Epoch 59/100\n",
            "\u001b[1m3/3\u001b[0m \u001b[32m━━━━━━━━━━━━━━━━━━━━\u001b[0m\u001b[37m\u001b[0m \u001b[1m10s\u001b[0m 2s/step - accuracy: 0.9639 - loss: 0.3900 - val_accuracy: 0.9695 - val_loss: 0.4078\n",
            "Epoch 60/100\n",
            "\u001b[1m3/3\u001b[0m \u001b[32m━━━━━━━━━━━━━━━━━━━━\u001b[0m\u001b[37m\u001b[0m \u001b[1m10s\u001b[0m 4s/step - accuracy: 0.9644 - loss: 0.3840 - val_accuracy: 0.9695 - val_loss: 0.4064\n",
            "Epoch 61/100\n",
            "\u001b[1m3/3\u001b[0m \u001b[32m━━━━━━━━━━━━━━━━━━━━\u001b[0m\u001b[37m\u001b[0m \u001b[1m18s\u001b[0m 2s/step - accuracy: 0.9646 - loss: 0.3810 - val_accuracy: 0.9695 - val_loss: 0.4050\n",
            "Epoch 62/100\n",
            "\u001b[1m3/3\u001b[0m \u001b[32m━━━━━━━━━━━━━━━━━━━━\u001b[0m\u001b[37m\u001b[0m \u001b[1m9s\u001b[0m 2s/step - accuracy: 0.9640 - loss: 0.3833 - val_accuracy: 0.9695 - val_loss: 0.4038\n",
            "Epoch 63/100\n",
            "\u001b[1m3/3\u001b[0m \u001b[32m━━━━━━━━━━━━━━━━━━━━\u001b[0m\u001b[37m\u001b[0m \u001b[1m7s\u001b[0m 2s/step - accuracy: 0.9646 - loss: 0.3775 - val_accuracy: 0.9695 - val_loss: 0.4024\n",
            "Epoch 64/100\n",
            "\u001b[1m3/3\u001b[0m \u001b[32m━━━━━━━━━━━━━━━━━━━━\u001b[0m\u001b[37m\u001b[0m \u001b[1m10s\u001b[0m 3s/step - accuracy: 0.9646 - loss: 0.3769 - val_accuracy: 0.9695 - val_loss: 0.4012\n",
            "Epoch 65/100\n",
            "\u001b[1m3/3\u001b[0m \u001b[32m━━━━━━━━━━━━━━━━━━━━\u001b[0m\u001b[37m\u001b[0m \u001b[1m7s\u001b[0m 2s/step - accuracy: 0.9647 - loss: 0.3745 - val_accuracy: 0.9695 - val_loss: 0.4000\n",
            "Epoch 66/100\n",
            "\u001b[1m3/3\u001b[0m \u001b[32m━━━━━━━━━━━━━━━━━━━━\u001b[0m\u001b[37m\u001b[0m \u001b[1m12s\u001b[0m 3s/step - accuracy: 0.9644 - loss: 0.3744 - val_accuracy: 0.9695 - val_loss: 0.3990\n",
            "Epoch 67/100\n",
            "\u001b[1m3/3\u001b[0m \u001b[32m━━━━━━━━━━━━━━━━━━━━\u001b[0m\u001b[37m\u001b[0m \u001b[1m6s\u001b[0m 2s/step - accuracy: 0.9645 - loss: 0.3718 - val_accuracy: 0.9695 - val_loss: 0.3979\n",
            "Epoch 68/100\n",
            "\u001b[1m3/3\u001b[0m \u001b[32m━━━━━━━━━━━━━━━━━━━━\u001b[0m\u001b[37m\u001b[0m \u001b[1m11s\u001b[0m 2s/step - accuracy: 0.9649 - loss: 0.3682 - val_accuracy: 0.9695 - val_loss: 0.3969\n",
            "Epoch 69/100\n",
            "\u001b[1m3/3\u001b[0m \u001b[32m━━━━━━━━━━━━━━━━━━━━\u001b[0m\u001b[37m\u001b[0m \u001b[1m12s\u001b[0m 3s/step - accuracy: 0.9647 - loss: 0.3680 - val_accuracy: 0.9695 - val_loss: 0.3958\n",
            "Epoch 70/100\n",
            "\u001b[1m3/3\u001b[0m \u001b[32m━━━━━━━━━━━━━━━━━━━━\u001b[0m\u001b[37m\u001b[0m \u001b[1m6s\u001b[0m 2s/step - accuracy: 0.9640 - loss: 0.3724 - val_accuracy: 0.9695 - val_loss: 0.3948\n",
            "Epoch 71/100\n",
            "\u001b[1m3/3\u001b[0m \u001b[32m━━━━━━━━━━━━━━━━━━━━\u001b[0m\u001b[37m\u001b[0m \u001b[1m11s\u001b[0m 2s/step - accuracy: 0.9644 - loss: 0.3684 - val_accuracy: 0.9695 - val_loss: 0.3939\n",
            "Epoch 72/100\n",
            "\u001b[1m3/3\u001b[0m \u001b[32m━━━━━━━━━━━━━━━━━━━━\u001b[0m\u001b[37m\u001b[0m \u001b[1m6s\u001b[0m 2s/step - accuracy: 0.9651 - loss: 0.3623 - val_accuracy: 0.9695 - val_loss: 0.3930\n",
            "Epoch 73/100\n",
            "\u001b[1m3/3\u001b[0m \u001b[32m━━━━━━━━━━━━━━━━━━━━\u001b[0m\u001b[37m\u001b[0m \u001b[1m10s\u001b[0m 2s/step - accuracy: 0.9645 - loss: 0.3655 - val_accuracy: 0.9695 - val_loss: 0.3921\n",
            "Epoch 74/100\n",
            "\u001b[1m3/3\u001b[0m \u001b[32m━━━━━━━━━━━━━━━━━━━━\u001b[0m\u001b[37m\u001b[0m \u001b[1m11s\u001b[0m 2s/step - accuracy: 0.9647 - loss: 0.3617 - val_accuracy: 0.9695 - val_loss: 0.3913\n",
            "Epoch 75/100\n",
            "\u001b[1m3/3\u001b[0m \u001b[32m━━━━━━━━━━━━━━━━━━━━\u001b[0m\u001b[37m\u001b[0m \u001b[1m12s\u001b[0m 3s/step - accuracy: 0.9646 - loss: 0.3621 - val_accuracy: 0.9695 - val_loss: 0.3905\n",
            "Epoch 76/100\n",
            "\u001b[1m3/3\u001b[0m \u001b[32m━━━━━━━━━━━━━━━━━━━━\u001b[0m\u001b[37m\u001b[0m \u001b[1m8s\u001b[0m 2s/step - accuracy: 0.9647 - loss: 0.3596 - val_accuracy: 0.9695 - val_loss: 0.3897\n",
            "Epoch 77/100\n",
            "\u001b[1m3/3\u001b[0m \u001b[32m━━━━━━━━━━━━━━━━━━━━\u001b[0m\u001b[37m\u001b[0m \u001b[1m8s\u001b[0m 3s/step - accuracy: 0.9644 - loss: 0.3621 - val_accuracy: 0.9695 - val_loss: 0.3889\n",
            "Epoch 78/100\n",
            "\u001b[1m3/3\u001b[0m \u001b[32m━━━━━━━━━━━━━━━━━━━━\u001b[0m\u001b[37m\u001b[0m \u001b[1m8s\u001b[0m 3s/step - accuracy: 0.9644 - loss: 0.3602 - val_accuracy: 0.9695 - val_loss: 0.3882\n",
            "Epoch 79/100\n",
            "\u001b[1m3/3\u001b[0m \u001b[32m━━━━━━━━━━━━━━━━━━━━\u001b[0m\u001b[37m\u001b[0m \u001b[1m9s\u001b[0m 2s/step - accuracy: 0.9647 - loss: 0.3569 - val_accuracy: 0.9695 - val_loss: 0.3875\n",
            "Epoch 80/100\n",
            "\u001b[1m3/3\u001b[0m \u001b[32m━━━━━━━━━━━━━━━━━━━━\u001b[0m\u001b[37m\u001b[0m \u001b[1m11s\u001b[0m 3s/step - accuracy: 0.9643 - loss: 0.3591 - val_accuracy: 0.9695 - val_loss: 0.3868\n",
            "Epoch 81/100\n",
            "\u001b[1m3/3\u001b[0m \u001b[32m━━━━━━━━━━━━━━━━━━━━\u001b[0m\u001b[37m\u001b[0m \u001b[1m8s\u001b[0m 2s/step - accuracy: 0.9648 - loss: 0.3541 - val_accuracy: 0.9695 - val_loss: 0.3861\n",
            "Epoch 82/100\n",
            "\u001b[1m3/3\u001b[0m \u001b[32m━━━━━━━━━━━━━━━━━━━━\u001b[0m\u001b[37m\u001b[0m \u001b[1m10s\u001b[0m 2s/step - accuracy: 0.9641 - loss: 0.3585 - val_accuracy: 0.9695 - val_loss: 0.3854\n",
            "Epoch 83/100\n",
            "\u001b[1m3/3\u001b[0m \u001b[32m━━━━━━━━━━━━━━━━━━━━\u001b[0m\u001b[37m\u001b[0m \u001b[1m12s\u001b[0m 2s/step - accuracy: 0.9644 - loss: 0.3551 - val_accuracy: 0.9695 - val_loss: 0.3847\n",
            "Epoch 84/100\n",
            "\u001b[1m3/3\u001b[0m \u001b[32m━━━━━━━━━━━━━━━━━━━━\u001b[0m\u001b[37m\u001b[0m \u001b[1m9s\u001b[0m 2s/step - accuracy: 0.9647 - loss: 0.3515 - val_accuracy: 0.9695 - val_loss: 0.3840\n",
            "Epoch 85/100\n",
            "\u001b[1m3/3\u001b[0m \u001b[32m━━━━━━━━━━━━━━━━━━━━\u001b[0m\u001b[37m\u001b[0m \u001b[1m8s\u001b[0m 2s/step - accuracy: 0.9648 - loss: 0.3499 - val_accuracy: 0.9695 - val_loss: 0.3833\n",
            "Epoch 86/100\n",
            "\u001b[1m3/3\u001b[0m \u001b[32m━━━━━━━━━━━━━━━━━━━━\u001b[0m\u001b[37m\u001b[0m \u001b[1m6s\u001b[0m 2s/step - accuracy: 0.9649 - loss: 0.3482 - val_accuracy: 0.9695 - val_loss: 0.3827\n",
            "Epoch 87/100\n",
            "\u001b[1m3/3\u001b[0m \u001b[32m━━━━━━━━━━━━━━━━━━━━\u001b[0m\u001b[37m\u001b[0m \u001b[1m10s\u001b[0m 2s/step - accuracy: 0.9647 - loss: 0.3502 - val_accuracy: 0.9695 - val_loss: 0.3821\n",
            "Epoch 88/100\n",
            "\u001b[1m3/3\u001b[0m \u001b[32m━━━━━━━━━━━━━━━━━━━━\u001b[0m\u001b[37m\u001b[0m \u001b[1m11s\u001b[0m 2s/step - accuracy: 0.9648 - loss: 0.3485 - val_accuracy: 0.9695 - val_loss: 0.3815\n",
            "Epoch 89/100\n",
            "\u001b[1m3/3\u001b[0m \u001b[32m━━━━━━━━━━━━━━━━━━━━\u001b[0m\u001b[37m\u001b[0m \u001b[1m6s\u001b[0m 2s/step - accuracy: 0.9652 - loss: 0.3440 - val_accuracy: 0.9695 - val_loss: 0.3810\n",
            "Epoch 90/100\n",
            "\u001b[1m3/3\u001b[0m \u001b[32m━━━━━━━━━━━━━━━━━━━━\u001b[0m\u001b[37m\u001b[0m \u001b[1m10s\u001b[0m 2s/step - accuracy: 0.9650 - loss: 0.3441 - val_accuracy: 0.9695 - val_loss: 0.3805\n",
            "Epoch 91/100\n",
            "\u001b[1m3/3\u001b[0m \u001b[32m━━━━━━━━━━━━━━━━━━━━\u001b[0m\u001b[37m\u001b[0m \u001b[1m11s\u001b[0m 2s/step - accuracy: 0.9647 - loss: 0.3467 - val_accuracy: 0.9695 - val_loss: 0.3801\n",
            "Epoch 92/100\n",
            "\u001b[1m3/3\u001b[0m \u001b[32m━━━━━━━━━━━━━━━━━━━━\u001b[0m\u001b[37m\u001b[0m \u001b[1m11s\u001b[0m 3s/step - accuracy: 0.9644 - loss: 0.3481 - val_accuracy: 0.9695 - val_loss: 0.3796\n",
            "Epoch 93/100\n",
            "\u001b[1m3/3\u001b[0m \u001b[32m━━━━━━━━━━━━━━━━━━━━\u001b[0m\u001b[37m\u001b[0m \u001b[1m8s\u001b[0m 2s/step - accuracy: 0.9648 - loss: 0.3436 - val_accuracy: 0.9695 - val_loss: 0.3791\n",
            "Epoch 94/100\n",
            "\u001b[1m3/3\u001b[0m \u001b[32m━━━━━━━━━━━━━━━━━━━━\u001b[0m\u001b[37m\u001b[0m \u001b[1m8s\u001b[0m 3s/step - accuracy: 0.9647 - loss: 0.3452 - val_accuracy: 0.9695 - val_loss: 0.3787\n",
            "Epoch 95/100\n",
            "\u001b[1m3/3\u001b[0m \u001b[32m━━━━━━━━━━━━━━━━━━━━\u001b[0m\u001b[37m\u001b[0m \u001b[1m6s\u001b[0m 2s/step - accuracy: 0.9649 - loss: 0.3425 - val_accuracy: 0.9695 - val_loss: 0.3782\n",
            "Epoch 96/100\n",
            "\u001b[1m3/3\u001b[0m \u001b[32m━━━━━━━━━━━━━━━━━━━━\u001b[0m\u001b[37m\u001b[0m \u001b[1m14s\u001b[0m 3s/step - accuracy: 0.9642 - loss: 0.3468 - val_accuracy: 0.9695 - val_loss: 0.3779\n",
            "Epoch 97/100\n",
            "\u001b[1m3/3\u001b[0m \u001b[32m━━━━━━━━━━━━━━━━━━━━\u001b[0m\u001b[37m\u001b[0m \u001b[1m8s\u001b[0m 3s/step - accuracy: 0.9646 - loss: 0.3435 - val_accuracy: 0.9695 - val_loss: 0.3774\n",
            "Epoch 98/100\n",
            "\u001b[1m3/3\u001b[0m \u001b[32m━━━━━━━━━━━━━━━━━━━━\u001b[0m\u001b[37m\u001b[0m \u001b[1m7s\u001b[0m 2s/step - accuracy: 0.9643 - loss: 0.3455 - val_accuracy: 0.9695 - val_loss: 0.3770\n",
            "Epoch 99/100\n",
            "\u001b[1m3/3\u001b[0m \u001b[32m━━━━━━━━━━━━━━━━━━━━\u001b[0m\u001b[37m\u001b[0m \u001b[1m12s\u001b[0m 3s/step - accuracy: 0.9644 - loss: 0.3438 - val_accuracy: 0.9695 - val_loss: 0.3767\n",
            "Epoch 100/100\n",
            "\u001b[1m3/3\u001b[0m \u001b[32m━━━━━━━━━━━━━━━━━━━━\u001b[0m\u001b[37m\u001b[0m \u001b[1m8s\u001b[0m 2s/step - accuracy: 0.9647 - loss: 0.3409 - val_accuracy: 0.9695 - val_loss: 0.3763\n"
          ]
        }
      ]
    },
    {
      "cell_type": "code",
      "source": [
        "\n",
        "model = tf.keras.Sequential([\n",
        "    tf.keras.layers.Embedding(vocab_size, embedding_dim, input_length=max_length),\n",
        "    tf.keras.layers.Dense(128, activation='relu'),\n",
        "    tf.keras.layers.SimpleRNN(128, return_sequences=True),  # Simple RNN layer\n",
        "    tf.keras.layers.SimpleRNN(64, return_sequences=True),\n",
        "    # Another Simple RNN layer\n",
        "    tf.keras.layers.Dropout(0.3),\n",
        "    tf.keras.layers.Dense(128, activation='relu', kernel_regularizer=tf.keras.regularizers.l2(0.01)),\n",
        "    tf.keras.layers.Dense(vocab_size, activation='softmax')\n",
        "    # tf.keras.layers.TimeDistributed(tf.keras.layers.Dense(vocab_size, activation='softmax'))  # Output layer for each time step\n",
        "])"
      ],
      "metadata": {
        "id": "ptgtGSi48T1E"
      },
      "execution_count": 201,
      "outputs": []
    },
    {
      "cell_type": "code",
      "source": [
        "model.compile(loss='sparse_categorical_crossentropy',optimizer='adam',metrics=['accuracy'])"
      ],
      "metadata": {
        "id": "M1H9ZODC8ZRA"
      },
      "execution_count": 202,
      "outputs": []
    },
    {
      "cell_type": "code",
      "source": [
        "model.evaluate(test_padded,padded_test_labels)"
      ],
      "metadata": {
        "colab": {
          "base_uri": "https://localhost:8080/"
        },
        "id": "wHB3LwYW86O5",
        "outputId": "e0117e03-2b0c-4e75-c88b-f8b6e66d1d9c"
      },
      "execution_count": 308,
      "outputs": [
        {
          "output_type": "stream",
          "name": "stdout",
          "text": [
            "\u001b[1m1/1\u001b[0m \u001b[32m━━━━━━━━━━━━━━━━━━━━\u001b[0m\u001b[37m\u001b[0m \u001b[1m0s\u001b[0m 478ms/step - accuracy: 0.9709 - loss: 0.3697\n"
          ]
        },
        {
          "output_type": "execute_result",
          "data": {
            "text/plain": [
              "[0.3697379231452942, 0.9709091186523438]"
            ]
          },
          "metadata": {},
          "execution_count": 308
        }
      ]
    },
    {
      "cell_type": "code",
      "source": [
        "def translate_english_to_urdu(input_text):\n",
        "    # Step 1: Preprocess the input\n",
        "    input_text = str(input_text)  # Ensure it's a string\n",
        "    input_sequence = tokenizer.texts_to_sequences([input_text])  # Tokenize the input text\n",
        "    input_padded = pad_sequences(input_sequence, maxlen=max_length, truncating=trunc_type)  # Pad the sequence\n",
        "\n",
        "    # Step 2: Predict the Urdu sequence\n",
        "    prediction = model.predict(input_padded)  # Get the model's output (predicted token indices)\n",
        "\n",
        "    # Step 3: Post-process the prediction\n",
        "    # Get the index of the word with the highest probability at each time step\n",
        "    predicted_sequence = np.argmax(prediction, axis=-1)[0]  # Take the first sequence in the batch\n",
        "\n",
        "    # Step 4: Convert the predicted token indices back to words\n",
        "    urdu_translation = ''\n",
        "    for token in predicted_sequence:\n",
        "        if token != 0:  # Skip padding tokens\n",
        "            word = tokenizer.index_word.get(token, '<OOV>')  # Convert index to word, or OOV if not found\n",
        "            urdu_translation += word + ' '\n",
        "\n",
        "    return urdu_translation.strip()  # Return the final translation\n",
        "\n",
        "# Example usage:\n",
        "english_input = \"what are you doing?\"\n",
        "urdu_output = translate_english_to_urdu(english_input)\n",
        "print(f\"Input: {english_input} => Predicted Urdu Translation: {urdu_output}\")\n"
      ],
      "metadata": {
        "colab": {
          "base_uri": "https://localhost:8080/"
        },
        "id": "FnmjdbZw9fR9",
        "outputId": "2c69acef-74a2-41f1-f199-514918c93667"
      },
      "execution_count": 310,
      "outputs": [
        {
          "output_type": "stream",
          "name": "stdout",
          "text": [
            "\u001b[1m1/1\u001b[0m \u001b[32m━━━━━━━━━━━━━━━━━━━━\u001b[0m\u001b[37m\u001b[0m \u001b[1m0s\u001b[0m 63ms/step\n",
            "Input: what are you doing? => Predicted Urdu Translation: \n"
          ]
        }
      ]
    }
  ]
}